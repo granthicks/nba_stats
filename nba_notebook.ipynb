{
 "metadata": {
  "language_info": {
   "codemirror_mode": {
    "name": "ipython",
    "version": 3
   },
   "file_extension": ".py",
   "mimetype": "text/x-python",
   "name": "python",
   "nbconvert_exporter": "python",
   "pygments_lexer": "ipython3",
   "version": "3.9.2"
  },
  "orig_nbformat": 2,
  "kernelspec": {
   "name": "python392jvsc74a57bd0aa5033fb627900888c9d3d34fe5dfa94c81c02b78025150e44c9d04b7ac53a94",
   "display_name": "Python   ('base': conda)"
  }
 },
 "nbformat": 4,
 "nbformat_minor": 2,
 "cells": [
  {
   "cell_type": "code",
   "execution_count": 1,
   "metadata": {},
   "outputs": [],
   "source": [
    "from nba_api.stats.endpoints import leaguegamefinder\n",
    "from nba_api.stats.static import players, teams\n",
    "import pandas as pd\n",
    "import time"
   ]
  },
  {
   "cell_type": "code",
   "execution_count": 2,
   "metadata": {},
   "outputs": [
    {
     "output_type": "stream",
     "name": "stdout",
     "text": [
      "Number of teams fetched: 30\n"
     ]
    }
   ],
   "source": [
    "# Getting information on NBA teams from NBA API\n",
    "\n",
    "nba_teams = teams.get_teams()\n",
    "print(f'Number of teams fetched: {len(nba_teams)}')"
   ]
  },
  {
   "cell_type": "code",
   "execution_count": 3,
   "metadata": {},
   "outputs": [],
   "source": [
    "# Setting the team information to a dataframe\n",
    "\n",
    "teams_df = pd.DataFrame(nba_teams)"
   ]
  },
  {
   "cell_type": "code",
   "execution_count": 4,
   "metadata": {},
   "outputs": [
    {
     "output_type": "execute_result",
     "data": {
      "text/plain": [
       "           id             full_name abbreviation   nickname         city  \\\n",
       "0  1610612737         Atlanta Hawks          ATL      Hawks      Atlanta   \n",
       "1  1610612738        Boston Celtics          BOS    Celtics       Boston   \n",
       "2  1610612739   Cleveland Cavaliers          CLE  Cavaliers    Cleveland   \n",
       "3  1610612740  New Orleans Pelicans          NOP   Pelicans  New Orleans   \n",
       "4  1610612741         Chicago Bulls          CHI      Bulls      Chicago   \n",
       "\n",
       "           state  year_founded  \n",
       "0        Atlanta          1949  \n",
       "1  Massachusetts          1946  \n",
       "2           Ohio          1970  \n",
       "3      Louisiana          2002  \n",
       "4       Illinois          1966  "
      ],
      "text/html": "<div>\n<style scoped>\n    .dataframe tbody tr th:only-of-type {\n        vertical-align: middle;\n    }\n\n    .dataframe tbody tr th {\n        vertical-align: top;\n    }\n\n    .dataframe thead th {\n        text-align: right;\n    }\n</style>\n<table border=\"1\" class=\"dataframe\">\n  <thead>\n    <tr style=\"text-align: right;\">\n      <th></th>\n      <th>id</th>\n      <th>full_name</th>\n      <th>abbreviation</th>\n      <th>nickname</th>\n      <th>city</th>\n      <th>state</th>\n      <th>year_founded</th>\n    </tr>\n  </thead>\n  <tbody>\n    <tr>\n      <th>0</th>\n      <td>1610612737</td>\n      <td>Atlanta Hawks</td>\n      <td>ATL</td>\n      <td>Hawks</td>\n      <td>Atlanta</td>\n      <td>Atlanta</td>\n      <td>1949</td>\n    </tr>\n    <tr>\n      <th>1</th>\n      <td>1610612738</td>\n      <td>Boston Celtics</td>\n      <td>BOS</td>\n      <td>Celtics</td>\n      <td>Boston</td>\n      <td>Massachusetts</td>\n      <td>1946</td>\n    </tr>\n    <tr>\n      <th>2</th>\n      <td>1610612739</td>\n      <td>Cleveland Cavaliers</td>\n      <td>CLE</td>\n      <td>Cavaliers</td>\n      <td>Cleveland</td>\n      <td>Ohio</td>\n      <td>1970</td>\n    </tr>\n    <tr>\n      <th>3</th>\n      <td>1610612740</td>\n      <td>New Orleans Pelicans</td>\n      <td>NOP</td>\n      <td>Pelicans</td>\n      <td>New Orleans</td>\n      <td>Louisiana</td>\n      <td>2002</td>\n    </tr>\n    <tr>\n      <th>4</th>\n      <td>1610612741</td>\n      <td>Chicago Bulls</td>\n      <td>CHI</td>\n      <td>Bulls</td>\n      <td>Chicago</td>\n      <td>Illinois</td>\n      <td>1966</td>\n    </tr>\n  </tbody>\n</table>\n</div>"
     },
     "metadata": {},
     "execution_count": 4
    }
   ],
   "source": [
    "teams_df.head()"
   ]
  },
  {
   "cell_type": "code",
   "execution_count": 5,
   "metadata": {},
   "outputs": [],
   "source": [
    "# I'm going to start by looking for the full information from one team using (my favorite team) the Boston Celtics\n",
    "\n",
    "celtics = [team for team in nba_teams if team['abbreviation'] == 'BOS'][0]\n",
    "celtics_id = celtics['id']"
   ]
  },
  {
   "cell_type": "code",
   "execution_count": 6,
   "metadata": {},
   "outputs": [],
   "source": [
    "# Using the leaguegamefinder endpoint to find information on all celtics games using the team ID from the NBA teaams dataframe\n",
    "games1 = leaguegamefinder.LeagueGameFinder(team_id_nullable=celtics_id)\n",
    "\n",
    "# The first dataframe returned is the one that I need\n",
    "games1df = games1.get_data_frames()[0]"
   ]
  },
  {
   "cell_type": "code",
   "execution_count": 7,
   "metadata": {},
   "outputs": [],
   "source": [
    "# Copying the dataframe in case of a mistake in the future\n",
    "\n",
    "games = games1df.copy()"
   ]
  },
  {
   "cell_type": "code",
   "execution_count": 8,
   "metadata": {},
   "outputs": [
    {
     "output_type": "execute_result",
     "data": {
      "text/plain": [
       "pandas.core.frame.DataFrame"
      ]
     },
     "metadata": {},
     "execution_count": 8
    }
   ],
   "source": [
    "type(games)"
   ]
  },
  {
   "cell_type": "code",
   "execution_count": 9,
   "metadata": {},
   "outputs": [
    {
     "output_type": "execute_result",
     "data": {
      "text/plain": [
       "  SEASON_ID     TEAM_ID TEAM_ABBREVIATION       TEAM_NAME     GAME_ID  \\\n",
       "0     42020  1610612738               BOS  Boston Celtics  0042000115   \n",
       "1     42020  1610612738               BOS  Boston Celtics  0042000114   \n",
       "2     42020  1610612738               BOS  Boston Celtics  0042000113   \n",
       "3     42020  1610612738               BOS  Boston Celtics  0042000112   \n",
       "4     42020  1610612738               BOS  Boston Celtics  0042000111   \n",
       "\n",
       "    GAME_DATE      MATCHUP WL  MIN  PTS  ...  FT_PCT  OREB  DREB  REB  AST  \\\n",
       "0  2021-06-01    BOS @ BKN  L  240  109  ...   0.783    13    31   44   18   \n",
       "1  2021-05-30  BOS vs. BKN  L  241  126  ...   0.905    11    23   34   24   \n",
       "2  2021-05-28  BOS vs. BKN  W  240  125  ...   0.826    13    33   46   21   \n",
       "3  2021-05-25    BOS @ BKN  L  239  108  ...   0.783    15    28   43   23   \n",
       "4  2021-05-22    BOS @ BKN  L  243   93  ...   0.769    11    29   40   19   \n",
       "\n",
       "   STL  BLK  TOV  PF  PLUS_MINUS  \n",
       "0    3   12   11  21       -14.0  \n",
       "1    8    4   10  21       -15.0  \n",
       "2    5    3   13  25         6.0  \n",
       "3   10    4   15  20       -22.0  \n",
       "4    6   12   12  18       -11.0  \n",
       "\n",
       "[5 rows x 28 columns]"
      ],
      "text/html": "<div>\n<style scoped>\n    .dataframe tbody tr th:only-of-type {\n        vertical-align: middle;\n    }\n\n    .dataframe tbody tr th {\n        vertical-align: top;\n    }\n\n    .dataframe thead th {\n        text-align: right;\n    }\n</style>\n<table border=\"1\" class=\"dataframe\">\n  <thead>\n    <tr style=\"text-align: right;\">\n      <th></th>\n      <th>SEASON_ID</th>\n      <th>TEAM_ID</th>\n      <th>TEAM_ABBREVIATION</th>\n      <th>TEAM_NAME</th>\n      <th>GAME_ID</th>\n      <th>GAME_DATE</th>\n      <th>MATCHUP</th>\n      <th>WL</th>\n      <th>MIN</th>\n      <th>PTS</th>\n      <th>...</th>\n      <th>FT_PCT</th>\n      <th>OREB</th>\n      <th>DREB</th>\n      <th>REB</th>\n      <th>AST</th>\n      <th>STL</th>\n      <th>BLK</th>\n      <th>TOV</th>\n      <th>PF</th>\n      <th>PLUS_MINUS</th>\n    </tr>\n  </thead>\n  <tbody>\n    <tr>\n      <th>0</th>\n      <td>42020</td>\n      <td>1610612738</td>\n      <td>BOS</td>\n      <td>Boston Celtics</td>\n      <td>0042000115</td>\n      <td>2021-06-01</td>\n      <td>BOS @ BKN</td>\n      <td>L</td>\n      <td>240</td>\n      <td>109</td>\n      <td>...</td>\n      <td>0.783</td>\n      <td>13</td>\n      <td>31</td>\n      <td>44</td>\n      <td>18</td>\n      <td>3</td>\n      <td>12</td>\n      <td>11</td>\n      <td>21</td>\n      <td>-14.0</td>\n    </tr>\n    <tr>\n      <th>1</th>\n      <td>42020</td>\n      <td>1610612738</td>\n      <td>BOS</td>\n      <td>Boston Celtics</td>\n      <td>0042000114</td>\n      <td>2021-05-30</td>\n      <td>BOS vs. BKN</td>\n      <td>L</td>\n      <td>241</td>\n      <td>126</td>\n      <td>...</td>\n      <td>0.905</td>\n      <td>11</td>\n      <td>23</td>\n      <td>34</td>\n      <td>24</td>\n      <td>8</td>\n      <td>4</td>\n      <td>10</td>\n      <td>21</td>\n      <td>-15.0</td>\n    </tr>\n    <tr>\n      <th>2</th>\n      <td>42020</td>\n      <td>1610612738</td>\n      <td>BOS</td>\n      <td>Boston Celtics</td>\n      <td>0042000113</td>\n      <td>2021-05-28</td>\n      <td>BOS vs. BKN</td>\n      <td>W</td>\n      <td>240</td>\n      <td>125</td>\n      <td>...</td>\n      <td>0.826</td>\n      <td>13</td>\n      <td>33</td>\n      <td>46</td>\n      <td>21</td>\n      <td>5</td>\n      <td>3</td>\n      <td>13</td>\n      <td>25</td>\n      <td>6.0</td>\n    </tr>\n    <tr>\n      <th>3</th>\n      <td>42020</td>\n      <td>1610612738</td>\n      <td>BOS</td>\n      <td>Boston Celtics</td>\n      <td>0042000112</td>\n      <td>2021-05-25</td>\n      <td>BOS @ BKN</td>\n      <td>L</td>\n      <td>239</td>\n      <td>108</td>\n      <td>...</td>\n      <td>0.783</td>\n      <td>15</td>\n      <td>28</td>\n      <td>43</td>\n      <td>23</td>\n      <td>10</td>\n      <td>4</td>\n      <td>15</td>\n      <td>20</td>\n      <td>-22.0</td>\n    </tr>\n    <tr>\n      <th>4</th>\n      <td>42020</td>\n      <td>1610612738</td>\n      <td>BOS</td>\n      <td>Boston Celtics</td>\n      <td>0042000111</td>\n      <td>2021-05-22</td>\n      <td>BOS @ BKN</td>\n      <td>L</td>\n      <td>243</td>\n      <td>93</td>\n      <td>...</td>\n      <td>0.769</td>\n      <td>11</td>\n      <td>29</td>\n      <td>40</td>\n      <td>19</td>\n      <td>6</td>\n      <td>12</td>\n      <td>12</td>\n      <td>18</td>\n      <td>-11.0</td>\n    </tr>\n  </tbody>\n</table>\n<p>5 rows × 28 columns</p>\n</div>"
     },
     "metadata": {},
     "execution_count": 9
    }
   ],
   "source": [
    "# Getting a look at the data returned\n",
    "\n",
    "games.head()"
   ]
  },
  {
   "cell_type": "code",
   "execution_count": 10,
   "metadata": {},
   "outputs": [
    {
     "output_type": "execute_result",
     "data": {
      "text/plain": [
       "(3575, 28)"
      ]
     },
     "metadata": {},
     "execution_count": 10
    }
   ],
   "source": [
    "# Checking total number of games returned\n",
    "\n",
    "games.shape"
   ]
  },
  {
   "cell_type": "code",
   "execution_count": 11,
   "metadata": {},
   "outputs": [],
   "source": [
    "# Looping through the rest of the teams to get all the game information and adding it to the dataframe with the Celtics game data\n",
    "# I skipped over the Celtics in this loop to avoid adding duplicate data\n",
    "# Also added some wait time to avoid being timed out after rapid requests\n",
    "\n",
    "for team in nba_teams:\n",
    "    team_id = team['id']\n",
    "    if team_id == celtics_id:\n",
    "        continue\n",
    "    games_find = leaguegamefinder.LeagueGameFinder(team_id_nullable=team_id)\n",
    "    time.sleep(1)\n",
    "    temp = games_find.get_data_frames()[0]\n",
    "    games = pd.concat([games,temp], copy=False)\n",
    "    time.sleep(2)"
   ]
  },
  {
   "cell_type": "code",
   "execution_count": 12,
   "metadata": {},
   "outputs": [
    {
     "output_type": "execute_result",
     "data": {
      "text/plain": [
       "     SEASON_ID     TEAM_ID TEAM_ABBREVIATION          TEAM_NAME     GAME_ID  \\\n",
       "0        42020  1610612738               BOS     Boston Celtics  0042000115   \n",
       "1        42020  1610612738               BOS     Boston Celtics  0042000114   \n",
       "2        42020  1610612738               BOS     Boston Celtics  0042000113   \n",
       "3        42020  1610612738               BOS     Boston Celtics  0042000112   \n",
       "4        42020  1610612738               BOS     Boston Celtics  0042000111   \n",
       "...        ...         ...               ...                ...         ...   \n",
       "2690     21988  1610612766               CHH  Charlotte Hornets  0028800062   \n",
       "2691     21988  1610612766               CHH  Charlotte Hornets  0028800052   \n",
       "2692     21988  1610612766               CHH  Charlotte Hornets  0028800024   \n",
       "2693     21988  1610612766               CHH  Charlotte Hornets  0028800015   \n",
       "2694     21988  1610612766               CHH  Charlotte Hornets  0028800008   \n",
       "\n",
       "       GAME_DATE      MATCHUP WL  MIN  PTS  ...  FT_PCT  OREB  DREB   REB  \\\n",
       "0     2021-06-01    BOS @ BKN  L  240  109  ...   0.783  13.0  31.0  44.0   \n",
       "1     2021-05-30  BOS vs. BKN  L  241  126  ...   0.905  11.0  23.0  34.0   \n",
       "2     2021-05-28  BOS vs. BKN  W  240  125  ...   0.826  13.0  33.0  46.0   \n",
       "3     2021-05-25    BOS @ BKN  L  239  108  ...   0.783  15.0  28.0  43.0   \n",
       "4     2021-05-22    BOS @ BKN  L  243   93  ...   0.769  11.0  29.0  40.0   \n",
       "...          ...          ... ..  ...  ...  ...     ...   ...   ...   ...   \n",
       "2690  1988-11-12    CHH @ ATL  L  238  111  ...   0.813  14.0  21.0  35.0   \n",
       "2691  1988-11-11    CHH @ WAS  L  240   87  ...   0.760  11.0  32.0  43.0   \n",
       "2692  1988-11-08  CHH vs. LAC  W  240  117  ...   0.738  17.0  38.0  55.0   \n",
       "2693  1988-11-05    CHH @ DET  L  240   85  ...   1.000  21.0  19.0  40.0   \n",
       "2694  1988-11-04  CHH vs. CLE  L  240   93  ...   0.650   7.0  24.0  31.0   \n",
       "\n",
       "      AST   STL  BLK  TOV  PF  PLUS_MINUS  \n",
       "0      18   3.0   12   11  21       -14.0  \n",
       "1      24   8.0    4   10  21       -15.0  \n",
       "2      21   5.0    3   13  25         6.0  \n",
       "3      23  10.0    4   15  20       -22.0  \n",
       "4      19   6.0   12   12  18       -11.0  \n",
       "...   ...   ...  ...  ...  ..         ...  \n",
       "2690   30  12.0    2   19  26         NaN  \n",
       "2691   22   9.0    1   23  26         NaN  \n",
       "2692   28   9.0    1   17  31         NaN  \n",
       "2693   18   8.0    6   11  21         NaN  \n",
       "2694   27   8.0    1   24  25         NaN  \n",
       "\n",
       "[96908 rows x 28 columns]"
      ],
      "text/html": "<div>\n<style scoped>\n    .dataframe tbody tr th:only-of-type {\n        vertical-align: middle;\n    }\n\n    .dataframe tbody tr th {\n        vertical-align: top;\n    }\n\n    .dataframe thead th {\n        text-align: right;\n    }\n</style>\n<table border=\"1\" class=\"dataframe\">\n  <thead>\n    <tr style=\"text-align: right;\">\n      <th></th>\n      <th>SEASON_ID</th>\n      <th>TEAM_ID</th>\n      <th>TEAM_ABBREVIATION</th>\n      <th>TEAM_NAME</th>\n      <th>GAME_ID</th>\n      <th>GAME_DATE</th>\n      <th>MATCHUP</th>\n      <th>WL</th>\n      <th>MIN</th>\n      <th>PTS</th>\n      <th>...</th>\n      <th>FT_PCT</th>\n      <th>OREB</th>\n      <th>DREB</th>\n      <th>REB</th>\n      <th>AST</th>\n      <th>STL</th>\n      <th>BLK</th>\n      <th>TOV</th>\n      <th>PF</th>\n      <th>PLUS_MINUS</th>\n    </tr>\n  </thead>\n  <tbody>\n    <tr>\n      <th>0</th>\n      <td>42020</td>\n      <td>1610612738</td>\n      <td>BOS</td>\n      <td>Boston Celtics</td>\n      <td>0042000115</td>\n      <td>2021-06-01</td>\n      <td>BOS @ BKN</td>\n      <td>L</td>\n      <td>240</td>\n      <td>109</td>\n      <td>...</td>\n      <td>0.783</td>\n      <td>13.0</td>\n      <td>31.0</td>\n      <td>44.0</td>\n      <td>18</td>\n      <td>3.0</td>\n      <td>12</td>\n      <td>11</td>\n      <td>21</td>\n      <td>-14.0</td>\n    </tr>\n    <tr>\n      <th>1</th>\n      <td>42020</td>\n      <td>1610612738</td>\n      <td>BOS</td>\n      <td>Boston Celtics</td>\n      <td>0042000114</td>\n      <td>2021-05-30</td>\n      <td>BOS vs. BKN</td>\n      <td>L</td>\n      <td>241</td>\n      <td>126</td>\n      <td>...</td>\n      <td>0.905</td>\n      <td>11.0</td>\n      <td>23.0</td>\n      <td>34.0</td>\n      <td>24</td>\n      <td>8.0</td>\n      <td>4</td>\n      <td>10</td>\n      <td>21</td>\n      <td>-15.0</td>\n    </tr>\n    <tr>\n      <th>2</th>\n      <td>42020</td>\n      <td>1610612738</td>\n      <td>BOS</td>\n      <td>Boston Celtics</td>\n      <td>0042000113</td>\n      <td>2021-05-28</td>\n      <td>BOS vs. BKN</td>\n      <td>W</td>\n      <td>240</td>\n      <td>125</td>\n      <td>...</td>\n      <td>0.826</td>\n      <td>13.0</td>\n      <td>33.0</td>\n      <td>46.0</td>\n      <td>21</td>\n      <td>5.0</td>\n      <td>3</td>\n      <td>13</td>\n      <td>25</td>\n      <td>6.0</td>\n    </tr>\n    <tr>\n      <th>3</th>\n      <td>42020</td>\n      <td>1610612738</td>\n      <td>BOS</td>\n      <td>Boston Celtics</td>\n      <td>0042000112</td>\n      <td>2021-05-25</td>\n      <td>BOS @ BKN</td>\n      <td>L</td>\n      <td>239</td>\n      <td>108</td>\n      <td>...</td>\n      <td>0.783</td>\n      <td>15.0</td>\n      <td>28.0</td>\n      <td>43.0</td>\n      <td>23</td>\n      <td>10.0</td>\n      <td>4</td>\n      <td>15</td>\n      <td>20</td>\n      <td>-22.0</td>\n    </tr>\n    <tr>\n      <th>4</th>\n      <td>42020</td>\n      <td>1610612738</td>\n      <td>BOS</td>\n      <td>Boston Celtics</td>\n      <td>0042000111</td>\n      <td>2021-05-22</td>\n      <td>BOS @ BKN</td>\n      <td>L</td>\n      <td>243</td>\n      <td>93</td>\n      <td>...</td>\n      <td>0.769</td>\n      <td>11.0</td>\n      <td>29.0</td>\n      <td>40.0</td>\n      <td>19</td>\n      <td>6.0</td>\n      <td>12</td>\n      <td>12</td>\n      <td>18</td>\n      <td>-11.0</td>\n    </tr>\n    <tr>\n      <th>...</th>\n      <td>...</td>\n      <td>...</td>\n      <td>...</td>\n      <td>...</td>\n      <td>...</td>\n      <td>...</td>\n      <td>...</td>\n      <td>...</td>\n      <td>...</td>\n      <td>...</td>\n      <td>...</td>\n      <td>...</td>\n      <td>...</td>\n      <td>...</td>\n      <td>...</td>\n      <td>...</td>\n      <td>...</td>\n      <td>...</td>\n      <td>...</td>\n      <td>...</td>\n      <td>...</td>\n    </tr>\n    <tr>\n      <th>2690</th>\n      <td>21988</td>\n      <td>1610612766</td>\n      <td>CHH</td>\n      <td>Charlotte Hornets</td>\n      <td>0028800062</td>\n      <td>1988-11-12</td>\n      <td>CHH @ ATL</td>\n      <td>L</td>\n      <td>238</td>\n      <td>111</td>\n      <td>...</td>\n      <td>0.813</td>\n      <td>14.0</td>\n      <td>21.0</td>\n      <td>35.0</td>\n      <td>30</td>\n      <td>12.0</td>\n      <td>2</td>\n      <td>19</td>\n      <td>26</td>\n      <td>NaN</td>\n    </tr>\n    <tr>\n      <th>2691</th>\n      <td>21988</td>\n      <td>1610612766</td>\n      <td>CHH</td>\n      <td>Charlotte Hornets</td>\n      <td>0028800052</td>\n      <td>1988-11-11</td>\n      <td>CHH @ WAS</td>\n      <td>L</td>\n      <td>240</td>\n      <td>87</td>\n      <td>...</td>\n      <td>0.760</td>\n      <td>11.0</td>\n      <td>32.0</td>\n      <td>43.0</td>\n      <td>22</td>\n      <td>9.0</td>\n      <td>1</td>\n      <td>23</td>\n      <td>26</td>\n      <td>NaN</td>\n    </tr>\n    <tr>\n      <th>2692</th>\n      <td>21988</td>\n      <td>1610612766</td>\n      <td>CHH</td>\n      <td>Charlotte Hornets</td>\n      <td>0028800024</td>\n      <td>1988-11-08</td>\n      <td>CHH vs. LAC</td>\n      <td>W</td>\n      <td>240</td>\n      <td>117</td>\n      <td>...</td>\n      <td>0.738</td>\n      <td>17.0</td>\n      <td>38.0</td>\n      <td>55.0</td>\n      <td>28</td>\n      <td>9.0</td>\n      <td>1</td>\n      <td>17</td>\n      <td>31</td>\n      <td>NaN</td>\n    </tr>\n    <tr>\n      <th>2693</th>\n      <td>21988</td>\n      <td>1610612766</td>\n      <td>CHH</td>\n      <td>Charlotte Hornets</td>\n      <td>0028800015</td>\n      <td>1988-11-05</td>\n      <td>CHH @ DET</td>\n      <td>L</td>\n      <td>240</td>\n      <td>85</td>\n      <td>...</td>\n      <td>1.000</td>\n      <td>21.0</td>\n      <td>19.0</td>\n      <td>40.0</td>\n      <td>18</td>\n      <td>8.0</td>\n      <td>6</td>\n      <td>11</td>\n      <td>21</td>\n      <td>NaN</td>\n    </tr>\n    <tr>\n      <th>2694</th>\n      <td>21988</td>\n      <td>1610612766</td>\n      <td>CHH</td>\n      <td>Charlotte Hornets</td>\n      <td>0028800008</td>\n      <td>1988-11-04</td>\n      <td>CHH vs. CLE</td>\n      <td>L</td>\n      <td>240</td>\n      <td>93</td>\n      <td>...</td>\n      <td>0.650</td>\n      <td>7.0</td>\n      <td>24.0</td>\n      <td>31.0</td>\n      <td>27</td>\n      <td>8.0</td>\n      <td>1</td>\n      <td>24</td>\n      <td>25</td>\n      <td>NaN</td>\n    </tr>\n  </tbody>\n</table>\n<p>96908 rows × 28 columns</p>\n</div>"
     },
     "metadata": {},
     "execution_count": 12
    }
   ],
   "source": [
    "# Getting a look at the full game data\n",
    " \n",
    "games"
   ]
  },
  {
   "cell_type": "code",
   "execution_count": 13,
   "metadata": {},
   "outputs": [],
   "source": [
    "# Resetting the index to avoid duplicates\n",
    "games.reset_index(inplace=True)"
   ]
  },
  {
   "cell_type": "code",
   "execution_count": 14,
   "metadata": {},
   "outputs": [],
   "source": [
    "# Just in case I change something...\n",
    "\n",
    "games_backup = games.copy()"
   ]
  },
  {
   "cell_type": "code",
   "execution_count": 15,
   "metadata": {},
   "outputs": [
    {
     "output_type": "execute_result",
     "data": {
      "text/plain": [
       "index                    0\n",
       "SEASON_ID                0\n",
       "TEAM_ID                  0\n",
       "TEAM_ABBREVIATION        0\n",
       "TEAM_NAME                0\n",
       "GAME_ID                  0\n",
       "GAME_DATE                0\n",
       "MATCHUP                  0\n",
       "WL                      20\n",
       "MIN                      0\n",
       "PTS                      0\n",
       "FGM                      0\n",
       "FGA                      0\n",
       "FG_PCT                   6\n",
       "FG3M                     0\n",
       "FG3A                     2\n",
       "FG3_PCT               1043\n",
       "FTM                      0\n",
       "FTA                      0\n",
       "FT_PCT                   7\n",
       "OREB                     4\n",
       "DREB                     4\n",
       "REB                      5\n",
       "AST                      0\n",
       "STL                      2\n",
       "BLK                      0\n",
       "TOV                      0\n",
       "PF                       0\n",
       "PLUS_MINUS           29704\n",
       "dtype: int64"
      ]
     },
     "metadata": {},
     "execution_count": 15
    }
   ],
   "source": [
    "# Checking for any null values in the dataframe\n",
    "\n",
    "games.isnull().sum()"
   ]
  },
  {
   "cell_type": "code",
   "execution_count": 16,
   "metadata": {},
   "outputs": [
    {
     "output_type": "execute_result",
     "data": {
      "text/plain": [
       "       index SEASON_ID     TEAM_ID TEAM_ABBREVIATION          TEAM_NAME  \\\n",
       "179      179     22019  1610612738               BOS     Boston Celtics   \n",
       "1434    1434     12007  1610612738               BOS     Boston Celtics   \n",
       "1438    1438     22007  1610612738               BOS     Boston Celtics   \n",
       "1439    1439     22007  1610612738               BOS     Boston Celtics   \n",
       "1440    1440     22007  1610612738               BOS     Boston Celtics   \n",
       "...      ...       ...         ...               ...                ...   \n",
       "96903   2690     21988  1610612766               CHH  Charlotte Hornets   \n",
       "96904   2691     21988  1610612766               CHH  Charlotte Hornets   \n",
       "96905   2692     21988  1610612766               CHH  Charlotte Hornets   \n",
       "96906   2693     21988  1610612766               CHH  Charlotte Hornets   \n",
       "96907   2694     21988  1610612766               CHH  Charlotte Hornets   \n",
       "\n",
       "          GAME_ID   GAME_DATE      MATCHUP    WL  MIN  ...  FT_PCT  OREB  \\\n",
       "179    1521900035  2019-07-08  BOS vs. CLE  None   13  ...     NaN   2.0   \n",
       "1434   0010700072  2007-10-19  BOS vs. NJN  None  120  ...   0.750   3.0   \n",
       "1438   1520700043  2007-07-14  BOS vs. DAL     L  199  ...   0.643  10.0   \n",
       "1439   1520700039  2007-07-13    BOS @ MIL     W  200  ...   0.500  15.0   \n",
       "1440   1520700028  2007-07-11    BOS @ CHN     W  199  ...   0.692  20.0   \n",
       "...           ...         ...          ...   ...  ...  ...     ...   ...   \n",
       "96903  0028800062  1988-11-12    CHH @ ATL     L  238  ...   0.813  14.0   \n",
       "96904  0028800052  1988-11-11    CHH @ WAS     L  240  ...   0.760  11.0   \n",
       "96905  0028800024  1988-11-08  CHH vs. LAC     W  240  ...   0.738  17.0   \n",
       "96906  0028800015  1988-11-05    CHH @ DET     L  240  ...   1.000  21.0   \n",
       "96907  0028800008  1988-11-04  CHH vs. CLE     L  240  ...   0.650   7.0   \n",
       "\n",
       "       DREB   REB  AST   STL  BLK  TOV  PF  PLUS_MINUS  \n",
       "179     6.0   8.0    0   1.0    0    3   2         0.0  \n",
       "1434   15.0  18.0    8   5.0    2   12  20         3.0  \n",
       "1438   28.0  38.0    8   3.0    9   20  30         NaN  \n",
       "1439   23.0  38.0   14   4.0    4   18  20         NaN  \n",
       "1440   23.0  43.0   11  10.0    4   17  34         NaN  \n",
       "...     ...   ...  ...   ...  ...  ...  ..         ...  \n",
       "96903  21.0  35.0   30  12.0    2   19  26         NaN  \n",
       "96904  32.0  43.0   22   9.0    1   23  26         NaN  \n",
       "96905  38.0  55.0   28   9.0    1   17  31         NaN  \n",
       "96906  19.0  40.0   18   8.0    6   11  21         NaN  \n",
       "96907  24.0  31.0   27   8.0    1   24  25         NaN  \n",
       "\n",
       "[29724 rows x 29 columns]"
      ],
      "text/html": "<div>\n<style scoped>\n    .dataframe tbody tr th:only-of-type {\n        vertical-align: middle;\n    }\n\n    .dataframe tbody tr th {\n        vertical-align: top;\n    }\n\n    .dataframe thead th {\n        text-align: right;\n    }\n</style>\n<table border=\"1\" class=\"dataframe\">\n  <thead>\n    <tr style=\"text-align: right;\">\n      <th></th>\n      <th>index</th>\n      <th>SEASON_ID</th>\n      <th>TEAM_ID</th>\n      <th>TEAM_ABBREVIATION</th>\n      <th>TEAM_NAME</th>\n      <th>GAME_ID</th>\n      <th>GAME_DATE</th>\n      <th>MATCHUP</th>\n      <th>WL</th>\n      <th>MIN</th>\n      <th>...</th>\n      <th>FT_PCT</th>\n      <th>OREB</th>\n      <th>DREB</th>\n      <th>REB</th>\n      <th>AST</th>\n      <th>STL</th>\n      <th>BLK</th>\n      <th>TOV</th>\n      <th>PF</th>\n      <th>PLUS_MINUS</th>\n    </tr>\n  </thead>\n  <tbody>\n    <tr>\n      <th>179</th>\n      <td>179</td>\n      <td>22019</td>\n      <td>1610612738</td>\n      <td>BOS</td>\n      <td>Boston Celtics</td>\n      <td>1521900035</td>\n      <td>2019-07-08</td>\n      <td>BOS vs. CLE</td>\n      <td>None</td>\n      <td>13</td>\n      <td>...</td>\n      <td>NaN</td>\n      <td>2.0</td>\n      <td>6.0</td>\n      <td>8.0</td>\n      <td>0</td>\n      <td>1.0</td>\n      <td>0</td>\n      <td>3</td>\n      <td>2</td>\n      <td>0.0</td>\n    </tr>\n    <tr>\n      <th>1434</th>\n      <td>1434</td>\n      <td>12007</td>\n      <td>1610612738</td>\n      <td>BOS</td>\n      <td>Boston Celtics</td>\n      <td>0010700072</td>\n      <td>2007-10-19</td>\n      <td>BOS vs. NJN</td>\n      <td>None</td>\n      <td>120</td>\n      <td>...</td>\n      <td>0.750</td>\n      <td>3.0</td>\n      <td>15.0</td>\n      <td>18.0</td>\n      <td>8</td>\n      <td>5.0</td>\n      <td>2</td>\n      <td>12</td>\n      <td>20</td>\n      <td>3.0</td>\n    </tr>\n    <tr>\n      <th>1438</th>\n      <td>1438</td>\n      <td>22007</td>\n      <td>1610612738</td>\n      <td>BOS</td>\n      <td>Boston Celtics</td>\n      <td>1520700043</td>\n      <td>2007-07-14</td>\n      <td>BOS vs. DAL</td>\n      <td>L</td>\n      <td>199</td>\n      <td>...</td>\n      <td>0.643</td>\n      <td>10.0</td>\n      <td>28.0</td>\n      <td>38.0</td>\n      <td>8</td>\n      <td>3.0</td>\n      <td>9</td>\n      <td>20</td>\n      <td>30</td>\n      <td>NaN</td>\n    </tr>\n    <tr>\n      <th>1439</th>\n      <td>1439</td>\n      <td>22007</td>\n      <td>1610612738</td>\n      <td>BOS</td>\n      <td>Boston Celtics</td>\n      <td>1520700039</td>\n      <td>2007-07-13</td>\n      <td>BOS @ MIL</td>\n      <td>W</td>\n      <td>200</td>\n      <td>...</td>\n      <td>0.500</td>\n      <td>15.0</td>\n      <td>23.0</td>\n      <td>38.0</td>\n      <td>14</td>\n      <td>4.0</td>\n      <td>4</td>\n      <td>18</td>\n      <td>20</td>\n      <td>NaN</td>\n    </tr>\n    <tr>\n      <th>1440</th>\n      <td>1440</td>\n      <td>22007</td>\n      <td>1610612738</td>\n      <td>BOS</td>\n      <td>Boston Celtics</td>\n      <td>1520700028</td>\n      <td>2007-07-11</td>\n      <td>BOS @ CHN</td>\n      <td>W</td>\n      <td>199</td>\n      <td>...</td>\n      <td>0.692</td>\n      <td>20.0</td>\n      <td>23.0</td>\n      <td>43.0</td>\n      <td>11</td>\n      <td>10.0</td>\n      <td>4</td>\n      <td>17</td>\n      <td>34</td>\n      <td>NaN</td>\n    </tr>\n    <tr>\n      <th>...</th>\n      <td>...</td>\n      <td>...</td>\n      <td>...</td>\n      <td>...</td>\n      <td>...</td>\n      <td>...</td>\n      <td>...</td>\n      <td>...</td>\n      <td>...</td>\n      <td>...</td>\n      <td>...</td>\n      <td>...</td>\n      <td>...</td>\n      <td>...</td>\n      <td>...</td>\n      <td>...</td>\n      <td>...</td>\n      <td>...</td>\n      <td>...</td>\n      <td>...</td>\n      <td>...</td>\n    </tr>\n    <tr>\n      <th>96903</th>\n      <td>2690</td>\n      <td>21988</td>\n      <td>1610612766</td>\n      <td>CHH</td>\n      <td>Charlotte Hornets</td>\n      <td>0028800062</td>\n      <td>1988-11-12</td>\n      <td>CHH @ ATL</td>\n      <td>L</td>\n      <td>238</td>\n      <td>...</td>\n      <td>0.813</td>\n      <td>14.0</td>\n      <td>21.0</td>\n      <td>35.0</td>\n      <td>30</td>\n      <td>12.0</td>\n      <td>2</td>\n      <td>19</td>\n      <td>26</td>\n      <td>NaN</td>\n    </tr>\n    <tr>\n      <th>96904</th>\n      <td>2691</td>\n      <td>21988</td>\n      <td>1610612766</td>\n      <td>CHH</td>\n      <td>Charlotte Hornets</td>\n      <td>0028800052</td>\n      <td>1988-11-11</td>\n      <td>CHH @ WAS</td>\n      <td>L</td>\n      <td>240</td>\n      <td>...</td>\n      <td>0.760</td>\n      <td>11.0</td>\n      <td>32.0</td>\n      <td>43.0</td>\n      <td>22</td>\n      <td>9.0</td>\n      <td>1</td>\n      <td>23</td>\n      <td>26</td>\n      <td>NaN</td>\n    </tr>\n    <tr>\n      <th>96905</th>\n      <td>2692</td>\n      <td>21988</td>\n      <td>1610612766</td>\n      <td>CHH</td>\n      <td>Charlotte Hornets</td>\n      <td>0028800024</td>\n      <td>1988-11-08</td>\n      <td>CHH vs. LAC</td>\n      <td>W</td>\n      <td>240</td>\n      <td>...</td>\n      <td>0.738</td>\n      <td>17.0</td>\n      <td>38.0</td>\n      <td>55.0</td>\n      <td>28</td>\n      <td>9.0</td>\n      <td>1</td>\n      <td>17</td>\n      <td>31</td>\n      <td>NaN</td>\n    </tr>\n    <tr>\n      <th>96906</th>\n      <td>2693</td>\n      <td>21988</td>\n      <td>1610612766</td>\n      <td>CHH</td>\n      <td>Charlotte Hornets</td>\n      <td>0028800015</td>\n      <td>1988-11-05</td>\n      <td>CHH @ DET</td>\n      <td>L</td>\n      <td>240</td>\n      <td>...</td>\n      <td>1.000</td>\n      <td>21.0</td>\n      <td>19.0</td>\n      <td>40.0</td>\n      <td>18</td>\n      <td>8.0</td>\n      <td>6</td>\n      <td>11</td>\n      <td>21</td>\n      <td>NaN</td>\n    </tr>\n    <tr>\n      <th>96907</th>\n      <td>2694</td>\n      <td>21988</td>\n      <td>1610612766</td>\n      <td>CHH</td>\n      <td>Charlotte Hornets</td>\n      <td>0028800008</td>\n      <td>1988-11-04</td>\n      <td>CHH vs. CLE</td>\n      <td>L</td>\n      <td>240</td>\n      <td>...</td>\n      <td>0.650</td>\n      <td>7.0</td>\n      <td>24.0</td>\n      <td>31.0</td>\n      <td>27</td>\n      <td>8.0</td>\n      <td>1</td>\n      <td>24</td>\n      <td>25</td>\n      <td>NaN</td>\n    </tr>\n  </tbody>\n</table>\n<p>29724 rows × 29 columns</p>\n</div>"
     },
     "metadata": {},
     "execution_count": 16
    }
   ],
   "source": [
    "# There are some null values showing up in the data, best to get a look at that\n",
    "\n",
    "games[games.isnull().any(axis=1)]"
   ]
  },
  {
   "cell_type": "code",
   "execution_count": 17,
   "metadata": {},
   "outputs": [
    {
     "output_type": "execute_result",
     "data": {
      "text/plain": [
       "Index(['index', 'SEASON_ID', 'TEAM_ID', 'TEAM_ABBREVIATION', 'TEAM_NAME',\n",
       "       'GAME_ID', 'GAME_DATE', 'MATCHUP', 'WL', 'MIN', 'PTS', 'FGM', 'FGA',\n",
       "       'FG_PCT', 'FG3M', 'FG3A', 'FG3_PCT', 'FTM', 'FTA', 'FT_PCT', 'OREB',\n",
       "       'DREB', 'REB', 'AST', 'STL', 'BLK', 'TOV', 'PF', 'PLUS_MINUS'],\n",
       "      dtype='object')"
      ]
     },
     "metadata": {},
     "execution_count": 17
    }
   ],
   "source": [
    "games.columns"
   ]
  },
  {
   "cell_type": "code",
   "execution_count": 18,
   "metadata": {},
   "outputs": [],
   "source": [
    "# Dropping the plus/minus column as there are a lot of missing values and it won't be useful\n",
    "\n",
    "games.drop('PLUS_MINUS', axis=1, inplace=True)"
   ]
  },
  {
   "cell_type": "code",
   "execution_count": 19,
   "metadata": {},
   "outputs": [
    {
     "output_type": "execute_result",
     "data": {
      "text/plain": [
       "index                   0\n",
       "SEASON_ID               0\n",
       "TEAM_ID                 0\n",
       "TEAM_ABBREVIATION       0\n",
       "TEAM_NAME               0\n",
       "GAME_ID                 0\n",
       "GAME_DATE               0\n",
       "MATCHUP                 0\n",
       "WL                     20\n",
       "MIN                     0\n",
       "PTS                     0\n",
       "FGM                     0\n",
       "FGA                     0\n",
       "FG_PCT                  6\n",
       "FG3M                    0\n",
       "FG3A                    2\n",
       "FG3_PCT              1043\n",
       "FTM                     0\n",
       "FTA                     0\n",
       "FT_PCT                  7\n",
       "OREB                    4\n",
       "DREB                    4\n",
       "REB                     5\n",
       "AST                     0\n",
       "STL                     2\n",
       "BLK                     0\n",
       "TOV                     0\n",
       "PF                      0\n",
       "dtype: int64"
      ]
     },
     "metadata": {},
     "execution_count": 19
    }
   ],
   "source": [
    "games.isnull().sum()"
   ]
  },
  {
   "cell_type": "code",
   "execution_count": 20,
   "metadata": {},
   "outputs": [],
   "source": [
    "# Replacing the null values in FG_PCT with the percentage of FGM/FGA\n",
    "\n",
    "games['FG_PCT'].fillna(games['FGM'] / games['FGA'], inplace=True)"
   ]
  },
  {
   "cell_type": "code",
   "execution_count": 21,
   "metadata": {},
   "outputs": [
    {
     "output_type": "execute_result",
     "data": {
      "text/plain": [
       "index                   0\n",
       "SEASON_ID               0\n",
       "TEAM_ID                 0\n",
       "TEAM_ABBREVIATION       0\n",
       "TEAM_NAME               0\n",
       "GAME_ID                 0\n",
       "GAME_DATE               0\n",
       "MATCHUP                 0\n",
       "WL                     20\n",
       "MIN                     0\n",
       "PTS                     0\n",
       "FGM                     0\n",
       "FGA                     0\n",
       "FG_PCT                  6\n",
       "FG3M                    0\n",
       "FG3A                    2\n",
       "FG3_PCT              1043\n",
       "FTM                     0\n",
       "FTA                     0\n",
       "FT_PCT                  7\n",
       "OREB                    4\n",
       "DREB                    4\n",
       "REB                     5\n",
       "AST                     0\n",
       "STL                     2\n",
       "BLK                     0\n",
       "TOV                     0\n",
       "PF                      0\n",
       "dtype: int64"
      ]
     },
     "metadata": {},
     "execution_count": 21
    }
   ],
   "source": [
    "games.isnull().sum()"
   ]
  },
  {
   "cell_type": "code",
   "execution_count": 22,
   "metadata": {},
   "outputs": [
    {
     "output_type": "execute_result",
     "data": {
      "text/plain": [
       "       index SEASON_ID     TEAM_ID TEAM_ABBREVIATION              TEAM_NAME  \\\n",
       "12467    330     12017  1610612741               CHI          Chicago Bulls   \n",
       "20421   1349     22007  1610612743               DEN         Denver Nuggets   \n",
       "23758   1293     22008  1610612744               GSW  Golden State Warriors   \n",
       "37561   1243     12009  1610612748               MIA             Miami Heat   \n",
       "63497   1499     12005  1610612756               PHX           Phoenix Suns   \n",
       "87575    163     22019  1610612764               WAS     Washington Wizards   \n",
       "\n",
       "          GAME_ID   GAME_DATE      MATCHUP    WL  MIN  ...  FTA  FT_PCT  OREB  \\\n",
       "12467  0011700012  2017-10-03    CHI @ NOP  None    0  ...    0     NaN   0.0   \n",
       "20421  1520700012  2007-07-08    DEN @ LAC  None    0  ...    0     NaN   0.0   \n",
       "23758  1520800001  2008-07-11  GSW vs. PHI  None    0  ...    0     NaN   0.0   \n",
       "37561  0010900007  2009-10-05    MIA @ DET  None    5  ...    6   0.667   0.0   \n",
       "63497  0010500109  2005-10-27    DET @ DAL     O   24  ...    0     NaN   0.0   \n",
       "87575  1521900060  2019-07-11  WAS vs. ATL  None    0  ...    0     NaN   0.0   \n",
       "\n",
       "       DREB  REB  AST  STL  BLK  TOV  PF  \n",
       "12467   0.0  0.0    0  0.0    0    0   0  \n",
       "20421   1.0  1.0    0  0.0    0    0   0  \n",
       "23758   0.0  NaN    0  0.0    0    0   0  \n",
       "37561   2.0  2.0    0  0.0    0    0   2  \n",
       "63497   0.0  0.0    0  0.0    0    0   0  \n",
       "87575   0.0  0.0    0  0.0    0    0   0  \n",
       "\n",
       "[6 rows x 28 columns]"
      ],
      "text/html": "<div>\n<style scoped>\n    .dataframe tbody tr th:only-of-type {\n        vertical-align: middle;\n    }\n\n    .dataframe tbody tr th {\n        vertical-align: top;\n    }\n\n    .dataframe thead th {\n        text-align: right;\n    }\n</style>\n<table border=\"1\" class=\"dataframe\">\n  <thead>\n    <tr style=\"text-align: right;\">\n      <th></th>\n      <th>index</th>\n      <th>SEASON_ID</th>\n      <th>TEAM_ID</th>\n      <th>TEAM_ABBREVIATION</th>\n      <th>TEAM_NAME</th>\n      <th>GAME_ID</th>\n      <th>GAME_DATE</th>\n      <th>MATCHUP</th>\n      <th>WL</th>\n      <th>MIN</th>\n      <th>...</th>\n      <th>FTA</th>\n      <th>FT_PCT</th>\n      <th>OREB</th>\n      <th>DREB</th>\n      <th>REB</th>\n      <th>AST</th>\n      <th>STL</th>\n      <th>BLK</th>\n      <th>TOV</th>\n      <th>PF</th>\n    </tr>\n  </thead>\n  <tbody>\n    <tr>\n      <th>12467</th>\n      <td>330</td>\n      <td>12017</td>\n      <td>1610612741</td>\n      <td>CHI</td>\n      <td>Chicago Bulls</td>\n      <td>0011700012</td>\n      <td>2017-10-03</td>\n      <td>CHI @ NOP</td>\n      <td>None</td>\n      <td>0</td>\n      <td>...</td>\n      <td>0</td>\n      <td>NaN</td>\n      <td>0.0</td>\n      <td>0.0</td>\n      <td>0.0</td>\n      <td>0</td>\n      <td>0.0</td>\n      <td>0</td>\n      <td>0</td>\n      <td>0</td>\n    </tr>\n    <tr>\n      <th>20421</th>\n      <td>1349</td>\n      <td>22007</td>\n      <td>1610612743</td>\n      <td>DEN</td>\n      <td>Denver Nuggets</td>\n      <td>1520700012</td>\n      <td>2007-07-08</td>\n      <td>DEN @ LAC</td>\n      <td>None</td>\n      <td>0</td>\n      <td>...</td>\n      <td>0</td>\n      <td>NaN</td>\n      <td>0.0</td>\n      <td>1.0</td>\n      <td>1.0</td>\n      <td>0</td>\n      <td>0.0</td>\n      <td>0</td>\n      <td>0</td>\n      <td>0</td>\n    </tr>\n    <tr>\n      <th>23758</th>\n      <td>1293</td>\n      <td>22008</td>\n      <td>1610612744</td>\n      <td>GSW</td>\n      <td>Golden State Warriors</td>\n      <td>1520800001</td>\n      <td>2008-07-11</td>\n      <td>GSW vs. PHI</td>\n      <td>None</td>\n      <td>0</td>\n      <td>...</td>\n      <td>0</td>\n      <td>NaN</td>\n      <td>0.0</td>\n      <td>0.0</td>\n      <td>NaN</td>\n      <td>0</td>\n      <td>0.0</td>\n      <td>0</td>\n      <td>0</td>\n      <td>0</td>\n    </tr>\n    <tr>\n      <th>37561</th>\n      <td>1243</td>\n      <td>12009</td>\n      <td>1610612748</td>\n      <td>MIA</td>\n      <td>Miami Heat</td>\n      <td>0010900007</td>\n      <td>2009-10-05</td>\n      <td>MIA @ DET</td>\n      <td>None</td>\n      <td>5</td>\n      <td>...</td>\n      <td>6</td>\n      <td>0.667</td>\n      <td>0.0</td>\n      <td>2.0</td>\n      <td>2.0</td>\n      <td>0</td>\n      <td>0.0</td>\n      <td>0</td>\n      <td>0</td>\n      <td>2</td>\n    </tr>\n    <tr>\n      <th>63497</th>\n      <td>1499</td>\n      <td>12005</td>\n      <td>1610612756</td>\n      <td>PHX</td>\n      <td>Phoenix Suns</td>\n      <td>0010500109</td>\n      <td>2005-10-27</td>\n      <td>DET @ DAL</td>\n      <td>O</td>\n      <td>24</td>\n      <td>...</td>\n      <td>0</td>\n      <td>NaN</td>\n      <td>0.0</td>\n      <td>0.0</td>\n      <td>0.0</td>\n      <td>0</td>\n      <td>0.0</td>\n      <td>0</td>\n      <td>0</td>\n      <td>0</td>\n    </tr>\n    <tr>\n      <th>87575</th>\n      <td>163</td>\n      <td>22019</td>\n      <td>1610612764</td>\n      <td>WAS</td>\n      <td>Washington Wizards</td>\n      <td>1521900060</td>\n      <td>2019-07-11</td>\n      <td>WAS vs. ATL</td>\n      <td>None</td>\n      <td>0</td>\n      <td>...</td>\n      <td>0</td>\n      <td>NaN</td>\n      <td>0.0</td>\n      <td>0.0</td>\n      <td>0.0</td>\n      <td>0</td>\n      <td>0.0</td>\n      <td>0</td>\n      <td>0</td>\n      <td>0</td>\n    </tr>\n  </tbody>\n</table>\n<p>6 rows × 28 columns</p>\n</div>"
     },
     "metadata": {},
     "execution_count": 22
    }
   ],
   "source": [
    "games[games['FG_PCT'].isnull()==True]"
   ]
  },
  {
   "cell_type": "code",
   "execution_count": 23,
   "metadata": {},
   "outputs": [],
   "source": [
    "null_threes = games[games['FG3_PCT'].isnull()==True]['FG3A']"
   ]
  },
  {
   "cell_type": "code",
   "execution_count": 24,
   "metadata": {},
   "outputs": [
    {
     "output_type": "execute_result",
     "data": {
      "text/plain": [
       "0.0    1041\n",
       "Name: FG3A, dtype: int64"
      ]
     },
     "metadata": {},
     "execution_count": 24
    }
   ],
   "source": [
    "null_threes.value_counts()"
   ]
  },
  {
   "cell_type": "code",
   "execution_count": 25,
   "metadata": {},
   "outputs": [],
   "source": [
    "# It looks like the nulls in the FG3_PCT column are coming from games where teams attempted no three point shots\n",
    "\n",
    "games['FG3_PCT'].fillna(0.0, inplace=True)"
   ]
  },
  {
   "cell_type": "code",
   "execution_count": 26,
   "metadata": {},
   "outputs": [
    {
     "output_type": "execute_result",
     "data": {
      "text/plain": [
       "index                 0\n",
       "SEASON_ID             0\n",
       "TEAM_ID               0\n",
       "TEAM_ABBREVIATION     0\n",
       "TEAM_NAME             0\n",
       "GAME_ID               0\n",
       "GAME_DATE             0\n",
       "MATCHUP               0\n",
       "WL                   20\n",
       "MIN                   0\n",
       "PTS                   0\n",
       "FGM                   0\n",
       "FGA                   0\n",
       "FG_PCT                6\n",
       "FG3M                  0\n",
       "FG3A                  2\n",
       "FG3_PCT               0\n",
       "FTM                   0\n",
       "FTA                   0\n",
       "FT_PCT                7\n",
       "OREB                  4\n",
       "DREB                  4\n",
       "REB                   5\n",
       "AST                   0\n",
       "STL                   2\n",
       "BLK                   0\n",
       "TOV                   0\n",
       "PF                    0\n",
       "dtype: int64"
      ]
     },
     "metadata": {},
     "execution_count": 26
    }
   ],
   "source": [
    "games.isnull().sum()"
   ]
  },
  {
   "cell_type": "code",
   "execution_count": 27,
   "metadata": {},
   "outputs": [
    {
     "output_type": "execute_result",
     "data": {
      "text/plain": [
       "12467    0\n",
       "20421    0\n",
       "23758    0\n",
       "37561    0\n",
       "63497    0\n",
       "87575    0\n",
       "Name: FGA, dtype: int64"
      ]
     },
     "metadata": {},
     "execution_count": 27
    }
   ],
   "source": [
    "games[games['FG_PCT'].isnull()==True]['FGA']"
   ]
  },
  {
   "cell_type": "code",
   "execution_count": 28,
   "metadata": {},
   "outputs": [],
   "source": [
    "# Same with the FG_PCT, games where teams attempted no field goals\n",
    "\n",
    "games['FG_PCT'].fillna(0.0, inplace=True)"
   ]
  },
  {
   "cell_type": "code",
   "execution_count": 29,
   "metadata": {},
   "outputs": [
    {
     "output_type": "execute_result",
     "data": {
      "text/plain": [
       "       index SEASON_ID     TEAM_ID TEAM_ABBREVIATION              TEAM_NAME  \\\n",
       "25690   3225     21984  1610612744               GOS  Golden State Warriors   \n",
       "72039   3143     21984  1610612758               KCK      Kansas City Kings   \n",
       "\n",
       "          GAME_ID   GAME_DATE      MATCHUP WL  MIN  ...  FTA  FT_PCT  OREB  \\\n",
       "25690  0028400895  1985-04-06  GOS vs. KCK  W  240  ...   52   0.904   NaN   \n",
       "72039  0028400895  1985-04-06    KCK @ GOS  L  198  ...   25   0.840   NaN   \n",
       "\n",
       "       DREB  REB  AST  STL  BLK  TOV  PF  \n",
       "25690   NaN  NaN   27  4.0    7    5  23  \n",
       "72039   NaN  NaN   28  6.0    1    8  31  \n",
       "\n",
       "[2 rows x 28 columns]"
      ],
      "text/html": "<div>\n<style scoped>\n    .dataframe tbody tr th:only-of-type {\n        vertical-align: middle;\n    }\n\n    .dataframe tbody tr th {\n        vertical-align: top;\n    }\n\n    .dataframe thead th {\n        text-align: right;\n    }\n</style>\n<table border=\"1\" class=\"dataframe\">\n  <thead>\n    <tr style=\"text-align: right;\">\n      <th></th>\n      <th>index</th>\n      <th>SEASON_ID</th>\n      <th>TEAM_ID</th>\n      <th>TEAM_ABBREVIATION</th>\n      <th>TEAM_NAME</th>\n      <th>GAME_ID</th>\n      <th>GAME_DATE</th>\n      <th>MATCHUP</th>\n      <th>WL</th>\n      <th>MIN</th>\n      <th>...</th>\n      <th>FTA</th>\n      <th>FT_PCT</th>\n      <th>OREB</th>\n      <th>DREB</th>\n      <th>REB</th>\n      <th>AST</th>\n      <th>STL</th>\n      <th>BLK</th>\n      <th>TOV</th>\n      <th>PF</th>\n    </tr>\n  </thead>\n  <tbody>\n    <tr>\n      <th>25690</th>\n      <td>3225</td>\n      <td>21984</td>\n      <td>1610612744</td>\n      <td>GOS</td>\n      <td>Golden State Warriors</td>\n      <td>0028400895</td>\n      <td>1985-04-06</td>\n      <td>GOS vs. KCK</td>\n      <td>W</td>\n      <td>240</td>\n      <td>...</td>\n      <td>52</td>\n      <td>0.904</td>\n      <td>NaN</td>\n      <td>NaN</td>\n      <td>NaN</td>\n      <td>27</td>\n      <td>4.0</td>\n      <td>7</td>\n      <td>5</td>\n      <td>23</td>\n    </tr>\n    <tr>\n      <th>72039</th>\n      <td>3143</td>\n      <td>21984</td>\n      <td>1610612758</td>\n      <td>KCK</td>\n      <td>Kansas City Kings</td>\n      <td>0028400895</td>\n      <td>1985-04-06</td>\n      <td>KCK @ GOS</td>\n      <td>L</td>\n      <td>198</td>\n      <td>...</td>\n      <td>25</td>\n      <td>0.840</td>\n      <td>NaN</td>\n      <td>NaN</td>\n      <td>NaN</td>\n      <td>28</td>\n      <td>6.0</td>\n      <td>1</td>\n      <td>8</td>\n      <td>31</td>\n    </tr>\n  </tbody>\n</table>\n<p>2 rows × 28 columns</p>\n</div>"
     },
     "metadata": {},
     "execution_count": 29
    }
   ],
   "source": [
    "# Checking where FG3A is null\n",
    "\n",
    "games[games['FG3A'].isnull()==True]"
   ]
  },
  {
   "cell_type": "code",
   "execution_count": 30,
   "metadata": {},
   "outputs": [],
   "source": [
    "# The null information comes from the same game, on April 6, 1985 between the Golden State Warriors and the Kansas City Kings\n",
    "# In that game the kings shot 0 for 2 from the three point line, and the Warriors shot 2 for 6\n",
    "\n",
    "# Warriors\n",
    "games.at[25690, 'FG3A'] = 6\n",
    "games.at[25690, 'FG3_PCT'] = 0.333\n",
    "\n",
    "# Kings\n",
    "games.at[72039, 'FG3A'] = 2\n",
    "games.at[72039, 'FG3_PCT'] = 0.0"
   ]
  },
  {
   "cell_type": "code",
   "execution_count": 31,
   "metadata": {},
   "outputs": [
    {
     "output_type": "execute_result",
     "data": {
      "text/plain": [
       "index                 0\n",
       "SEASON_ID             0\n",
       "TEAM_ID               0\n",
       "TEAM_ABBREVIATION     0\n",
       "TEAM_NAME             0\n",
       "GAME_ID               0\n",
       "GAME_DATE             0\n",
       "MATCHUP               0\n",
       "WL                   20\n",
       "MIN                   0\n",
       "PTS                   0\n",
       "FGM                   0\n",
       "FGA                   0\n",
       "FG_PCT                0\n",
       "FG3M                  0\n",
       "FG3A                  0\n",
       "FG3_PCT               0\n",
       "FTM                   0\n",
       "FTA                   0\n",
       "FT_PCT                7\n",
       "OREB                  4\n",
       "DREB                  4\n",
       "REB                   5\n",
       "AST                   0\n",
       "STL                   2\n",
       "BLK                   0\n",
       "TOV                   0\n",
       "PF                    0\n",
       "dtype: int64"
      ]
     },
     "metadata": {},
     "execution_count": 31
    }
   ],
   "source": [
    "games.isnull().sum()"
   ]
  },
  {
   "cell_type": "code",
   "execution_count": 32,
   "metadata": {},
   "outputs": [
    {
     "output_type": "execute_result",
     "data": {
      "text/plain": [
       "       index SEASON_ID     TEAM_ID TEAM_ABBREVIATION              TEAM_NAME  \\\n",
       "179      179     22019  1610612738               BOS         Boston Celtics   \n",
       "1434    1434     12007  1610612738               BOS         Boston Celtics   \n",
       "3575       0     42020  1610612737               ATL          Atlanta Hawks   \n",
       "3735     160     22019  1610612737               ATL          Atlanta Hawks   \n",
       "10555    159     22019  1610612740               NOP   New Orleans Pelicans   \n",
       "12467    330     12017  1610612741               CHI          Chicago Bulls   \n",
       "16775   1152     22009  1610612742               DAL       Dallas Mavericks   \n",
       "20317   1245     12008  1610612743               DEN         Denver Nuggets   \n",
       "20421   1349     22007  1610612743               DEN         Denver Nuggets   \n",
       "23758   1293     22008  1610612744               GSW  Golden State Warriors   \n",
       "37561   1243     12009  1610612748               MIA             Miami Heat   \n",
       "40531   1133     22009  1610612749               MIL        Milwaukee Bucks   \n",
       "46841   1281     12007  1610612751               NJN        New Jersey Nets   \n",
       "58589      0     42020  1610612755               PHI     Philadelphia 76ers   \n",
       "59725   1136     12009  1610612755               PHI     Philadelphia 76ers   \n",
       "63187   1189     12008  1610612756               PHX           Phoenix Suns   \n",
       "82719   1140     12009  1610612762               UTA              Utah Jazz   \n",
       "87575    163     22019  1610612764               WAS     Washington Wizards   \n",
       "87578    166     22019  1610612764               WAS     Washington Wizards   \n",
       "94364    151     22019  1610612766               CHA      Charlotte Hornets   \n",
       "\n",
       "          GAME_ID   GAME_DATE      MATCHUP    WL  MIN  ...  FTA  FT_PCT  OREB  \\\n",
       "179    1521900035  2019-07-08  BOS vs. CLE  None   13  ...    0     NaN   2.0   \n",
       "1434   0010700072  2007-10-19  BOS vs. NJN  None  120  ...   12   0.750   3.0   \n",
       "3575   0042000204  2021-06-14  ATL vs. PHI  None   24  ...    2   0.000   2.0   \n",
       "3735   1521900023  2019-07-07  ATL vs. MIN  None   21  ...    2   0.500   1.0   \n",
       "10555  1521900008  2019-07-05  NOP vs. NYK  None   17  ...    2   1.000   2.0   \n",
       "12467  0011700012  2017-10-03    CHI @ NOP  None    0  ...    0     NaN   0.0   \n",
       "16775  1520900004  2009-07-10  DAL vs. MIL  None   22  ...    4   0.500   1.0   \n",
       "20317  0010800035  2008-10-11    DEN @ PHX  None  240  ...   38   0.474  15.0   \n",
       "20421  1520700012  2007-07-08    DEN @ LAC  None    0  ...    0     NaN   0.0   \n",
       "23758  1520800001  2008-07-11  GSW vs. PHI  None    0  ...    0     NaN   0.0   \n",
       "37561  0010900007  2009-10-05    MIA @ DET  None    5  ...    6   0.667   0.0   \n",
       "40531  1520900004  2009-07-10    MIL @ DAL  None   21  ...    0     NaN   1.0   \n",
       "46841  0010700072  2007-10-19    NJN @ BOS  None  120  ...   18   0.722   7.0   \n",
       "58589  0042000204  2021-06-14    PHI @ ATL  None   24  ...    2   1.000   1.0   \n",
       "59725  0010900013  2009-10-06  PHI vs. TOR  None    9  ...    4   0.750   1.0   \n",
       "63187  0010800035  2008-10-11  PHX vs. DEN  None  239  ...   29   0.690  22.0   \n",
       "82719  0010900001  2009-10-01  UTA vs. DEN  None   13  ...    4   0.750   1.0   \n",
       "87575  1521900060  2019-07-11  WAS vs. ATL  None    0  ...    0     NaN   0.0   \n",
       "87578  1521900048  2019-07-09  WAS vs. LAC  None   24  ...    7   0.857   4.0   \n",
       "94364  1521900007  2019-07-05    CHA @ GSW  None   17  ...    4   0.500   0.0   \n",
       "\n",
       "       DREB   REB  AST   STL  BLK  TOV  PF  \n",
       "179     6.0   8.0    0   1.0    0    3   2  \n",
       "1434   15.0  18.0    8   5.0    2   12  20  \n",
       "3575    8.0  10.0    4   2.0    0    0   3  \n",
       "3735    2.0   3.0    1   0.0    1    4   2  \n",
       "10555   8.0  10.0    1   0.0    2    0   1  \n",
       "12467   0.0   0.0    0   0.0    0    0   0  \n",
       "16775   3.0   4.0    1   3.0    2    2   0  \n",
       "20317  36.0  51.0    7  11.0    5   13  26  \n",
       "20421   1.0   1.0    0   0.0    0    0   0  \n",
       "23758   0.0   NaN    0   0.0    0    0   0  \n",
       "37561   2.0   2.0    0   0.0    0    0   2  \n",
       "40531   3.0   4.0    0   2.0    2    7   7  \n",
       "46841  12.0  19.0    7   3.0    1   11  13  \n",
       "58589  16.0  17.0    5   1.0    1    2   1  \n",
       "59725   1.0   2.0    1   0.0    0    0   0  \n",
       "63187  30.0  52.0    8   5.0   11   19  27  \n",
       "82719   0.0   1.0    0   2.0    0    0   0  \n",
       "87575   0.0   0.0    0   0.0    0    0   0  \n",
       "87578   7.0  11.0    0   1.0    0    4   5  \n",
       "94364   2.0   2.0    0   0.0    0    0   2  \n",
       "\n",
       "[20 rows x 28 columns]"
      ],
      "text/html": "<div>\n<style scoped>\n    .dataframe tbody tr th:only-of-type {\n        vertical-align: middle;\n    }\n\n    .dataframe tbody tr th {\n        vertical-align: top;\n    }\n\n    .dataframe thead th {\n        text-align: right;\n    }\n</style>\n<table border=\"1\" class=\"dataframe\">\n  <thead>\n    <tr style=\"text-align: right;\">\n      <th></th>\n      <th>index</th>\n      <th>SEASON_ID</th>\n      <th>TEAM_ID</th>\n      <th>TEAM_ABBREVIATION</th>\n      <th>TEAM_NAME</th>\n      <th>GAME_ID</th>\n      <th>GAME_DATE</th>\n      <th>MATCHUP</th>\n      <th>WL</th>\n      <th>MIN</th>\n      <th>...</th>\n      <th>FTA</th>\n      <th>FT_PCT</th>\n      <th>OREB</th>\n      <th>DREB</th>\n      <th>REB</th>\n      <th>AST</th>\n      <th>STL</th>\n      <th>BLK</th>\n      <th>TOV</th>\n      <th>PF</th>\n    </tr>\n  </thead>\n  <tbody>\n    <tr>\n      <th>179</th>\n      <td>179</td>\n      <td>22019</td>\n      <td>1610612738</td>\n      <td>BOS</td>\n      <td>Boston Celtics</td>\n      <td>1521900035</td>\n      <td>2019-07-08</td>\n      <td>BOS vs. CLE</td>\n      <td>None</td>\n      <td>13</td>\n      <td>...</td>\n      <td>0</td>\n      <td>NaN</td>\n      <td>2.0</td>\n      <td>6.0</td>\n      <td>8.0</td>\n      <td>0</td>\n      <td>1.0</td>\n      <td>0</td>\n      <td>3</td>\n      <td>2</td>\n    </tr>\n    <tr>\n      <th>1434</th>\n      <td>1434</td>\n      <td>12007</td>\n      <td>1610612738</td>\n      <td>BOS</td>\n      <td>Boston Celtics</td>\n      <td>0010700072</td>\n      <td>2007-10-19</td>\n      <td>BOS vs. NJN</td>\n      <td>None</td>\n      <td>120</td>\n      <td>...</td>\n      <td>12</td>\n      <td>0.750</td>\n      <td>3.0</td>\n      <td>15.0</td>\n      <td>18.0</td>\n      <td>8</td>\n      <td>5.0</td>\n      <td>2</td>\n      <td>12</td>\n      <td>20</td>\n    </tr>\n    <tr>\n      <th>3575</th>\n      <td>0</td>\n      <td>42020</td>\n      <td>1610612737</td>\n      <td>ATL</td>\n      <td>Atlanta Hawks</td>\n      <td>0042000204</td>\n      <td>2021-06-14</td>\n      <td>ATL vs. PHI</td>\n      <td>None</td>\n      <td>24</td>\n      <td>...</td>\n      <td>2</td>\n      <td>0.000</td>\n      <td>2.0</td>\n      <td>8.0</td>\n      <td>10.0</td>\n      <td>4</td>\n      <td>2.0</td>\n      <td>0</td>\n      <td>0</td>\n      <td>3</td>\n    </tr>\n    <tr>\n      <th>3735</th>\n      <td>160</td>\n      <td>22019</td>\n      <td>1610612737</td>\n      <td>ATL</td>\n      <td>Atlanta Hawks</td>\n      <td>1521900023</td>\n      <td>2019-07-07</td>\n      <td>ATL vs. MIN</td>\n      <td>None</td>\n      <td>21</td>\n      <td>...</td>\n      <td>2</td>\n      <td>0.500</td>\n      <td>1.0</td>\n      <td>2.0</td>\n      <td>3.0</td>\n      <td>1</td>\n      <td>0.0</td>\n      <td>1</td>\n      <td>4</td>\n      <td>2</td>\n    </tr>\n    <tr>\n      <th>10555</th>\n      <td>159</td>\n      <td>22019</td>\n      <td>1610612740</td>\n      <td>NOP</td>\n      <td>New Orleans Pelicans</td>\n      <td>1521900008</td>\n      <td>2019-07-05</td>\n      <td>NOP vs. NYK</td>\n      <td>None</td>\n      <td>17</td>\n      <td>...</td>\n      <td>2</td>\n      <td>1.000</td>\n      <td>2.0</td>\n      <td>8.0</td>\n      <td>10.0</td>\n      <td>1</td>\n      <td>0.0</td>\n      <td>2</td>\n      <td>0</td>\n      <td>1</td>\n    </tr>\n    <tr>\n      <th>12467</th>\n      <td>330</td>\n      <td>12017</td>\n      <td>1610612741</td>\n      <td>CHI</td>\n      <td>Chicago Bulls</td>\n      <td>0011700012</td>\n      <td>2017-10-03</td>\n      <td>CHI @ NOP</td>\n      <td>None</td>\n      <td>0</td>\n      <td>...</td>\n      <td>0</td>\n      <td>NaN</td>\n      <td>0.0</td>\n      <td>0.0</td>\n      <td>0.0</td>\n      <td>0</td>\n      <td>0.0</td>\n      <td>0</td>\n      <td>0</td>\n      <td>0</td>\n    </tr>\n    <tr>\n      <th>16775</th>\n      <td>1152</td>\n      <td>22009</td>\n      <td>1610612742</td>\n      <td>DAL</td>\n      <td>Dallas Mavericks</td>\n      <td>1520900004</td>\n      <td>2009-07-10</td>\n      <td>DAL vs. MIL</td>\n      <td>None</td>\n      <td>22</td>\n      <td>...</td>\n      <td>4</td>\n      <td>0.500</td>\n      <td>1.0</td>\n      <td>3.0</td>\n      <td>4.0</td>\n      <td>1</td>\n      <td>3.0</td>\n      <td>2</td>\n      <td>2</td>\n      <td>0</td>\n    </tr>\n    <tr>\n      <th>20317</th>\n      <td>1245</td>\n      <td>12008</td>\n      <td>1610612743</td>\n      <td>DEN</td>\n      <td>Denver Nuggets</td>\n      <td>0010800035</td>\n      <td>2008-10-11</td>\n      <td>DEN @ PHX</td>\n      <td>None</td>\n      <td>240</td>\n      <td>...</td>\n      <td>38</td>\n      <td>0.474</td>\n      <td>15.0</td>\n      <td>36.0</td>\n      <td>51.0</td>\n      <td>7</td>\n      <td>11.0</td>\n      <td>5</td>\n      <td>13</td>\n      <td>26</td>\n    </tr>\n    <tr>\n      <th>20421</th>\n      <td>1349</td>\n      <td>22007</td>\n      <td>1610612743</td>\n      <td>DEN</td>\n      <td>Denver Nuggets</td>\n      <td>1520700012</td>\n      <td>2007-07-08</td>\n      <td>DEN @ LAC</td>\n      <td>None</td>\n      <td>0</td>\n      <td>...</td>\n      <td>0</td>\n      <td>NaN</td>\n      <td>0.0</td>\n      <td>1.0</td>\n      <td>1.0</td>\n      <td>0</td>\n      <td>0.0</td>\n      <td>0</td>\n      <td>0</td>\n      <td>0</td>\n    </tr>\n    <tr>\n      <th>23758</th>\n      <td>1293</td>\n      <td>22008</td>\n      <td>1610612744</td>\n      <td>GSW</td>\n      <td>Golden State Warriors</td>\n      <td>1520800001</td>\n      <td>2008-07-11</td>\n      <td>GSW vs. PHI</td>\n      <td>None</td>\n      <td>0</td>\n      <td>...</td>\n      <td>0</td>\n      <td>NaN</td>\n      <td>0.0</td>\n      <td>0.0</td>\n      <td>NaN</td>\n      <td>0</td>\n      <td>0.0</td>\n      <td>0</td>\n      <td>0</td>\n      <td>0</td>\n    </tr>\n    <tr>\n      <th>37561</th>\n      <td>1243</td>\n      <td>12009</td>\n      <td>1610612748</td>\n      <td>MIA</td>\n      <td>Miami Heat</td>\n      <td>0010900007</td>\n      <td>2009-10-05</td>\n      <td>MIA @ DET</td>\n      <td>None</td>\n      <td>5</td>\n      <td>...</td>\n      <td>6</td>\n      <td>0.667</td>\n      <td>0.0</td>\n      <td>2.0</td>\n      <td>2.0</td>\n      <td>0</td>\n      <td>0.0</td>\n      <td>0</td>\n      <td>0</td>\n      <td>2</td>\n    </tr>\n    <tr>\n      <th>40531</th>\n      <td>1133</td>\n      <td>22009</td>\n      <td>1610612749</td>\n      <td>MIL</td>\n      <td>Milwaukee Bucks</td>\n      <td>1520900004</td>\n      <td>2009-07-10</td>\n      <td>MIL @ DAL</td>\n      <td>None</td>\n      <td>21</td>\n      <td>...</td>\n      <td>0</td>\n      <td>NaN</td>\n      <td>1.0</td>\n      <td>3.0</td>\n      <td>4.0</td>\n      <td>0</td>\n      <td>2.0</td>\n      <td>2</td>\n      <td>7</td>\n      <td>7</td>\n    </tr>\n    <tr>\n      <th>46841</th>\n      <td>1281</td>\n      <td>12007</td>\n      <td>1610612751</td>\n      <td>NJN</td>\n      <td>New Jersey Nets</td>\n      <td>0010700072</td>\n      <td>2007-10-19</td>\n      <td>NJN @ BOS</td>\n      <td>None</td>\n      <td>120</td>\n      <td>...</td>\n      <td>18</td>\n      <td>0.722</td>\n      <td>7.0</td>\n      <td>12.0</td>\n      <td>19.0</td>\n      <td>7</td>\n      <td>3.0</td>\n      <td>1</td>\n      <td>11</td>\n      <td>13</td>\n    </tr>\n    <tr>\n      <th>58589</th>\n      <td>0</td>\n      <td>42020</td>\n      <td>1610612755</td>\n      <td>PHI</td>\n      <td>Philadelphia 76ers</td>\n      <td>0042000204</td>\n      <td>2021-06-14</td>\n      <td>PHI @ ATL</td>\n      <td>None</td>\n      <td>24</td>\n      <td>...</td>\n      <td>2</td>\n      <td>1.000</td>\n      <td>1.0</td>\n      <td>16.0</td>\n      <td>17.0</td>\n      <td>5</td>\n      <td>1.0</td>\n      <td>1</td>\n      <td>2</td>\n      <td>1</td>\n    </tr>\n    <tr>\n      <th>59725</th>\n      <td>1136</td>\n      <td>12009</td>\n      <td>1610612755</td>\n      <td>PHI</td>\n      <td>Philadelphia 76ers</td>\n      <td>0010900013</td>\n      <td>2009-10-06</td>\n      <td>PHI vs. TOR</td>\n      <td>None</td>\n      <td>9</td>\n      <td>...</td>\n      <td>4</td>\n      <td>0.750</td>\n      <td>1.0</td>\n      <td>1.0</td>\n      <td>2.0</td>\n      <td>1</td>\n      <td>0.0</td>\n      <td>0</td>\n      <td>0</td>\n      <td>0</td>\n    </tr>\n    <tr>\n      <th>63187</th>\n      <td>1189</td>\n      <td>12008</td>\n      <td>1610612756</td>\n      <td>PHX</td>\n      <td>Phoenix Suns</td>\n      <td>0010800035</td>\n      <td>2008-10-11</td>\n      <td>PHX vs. DEN</td>\n      <td>None</td>\n      <td>239</td>\n      <td>...</td>\n      <td>29</td>\n      <td>0.690</td>\n      <td>22.0</td>\n      <td>30.0</td>\n      <td>52.0</td>\n      <td>8</td>\n      <td>5.0</td>\n      <td>11</td>\n      <td>19</td>\n      <td>27</td>\n    </tr>\n    <tr>\n      <th>82719</th>\n      <td>1140</td>\n      <td>12009</td>\n      <td>1610612762</td>\n      <td>UTA</td>\n      <td>Utah Jazz</td>\n      <td>0010900001</td>\n      <td>2009-10-01</td>\n      <td>UTA vs. DEN</td>\n      <td>None</td>\n      <td>13</td>\n      <td>...</td>\n      <td>4</td>\n      <td>0.750</td>\n      <td>1.0</td>\n      <td>0.0</td>\n      <td>1.0</td>\n      <td>0</td>\n      <td>2.0</td>\n      <td>0</td>\n      <td>0</td>\n      <td>0</td>\n    </tr>\n    <tr>\n      <th>87575</th>\n      <td>163</td>\n      <td>22019</td>\n      <td>1610612764</td>\n      <td>WAS</td>\n      <td>Washington Wizards</td>\n      <td>1521900060</td>\n      <td>2019-07-11</td>\n      <td>WAS vs. ATL</td>\n      <td>None</td>\n      <td>0</td>\n      <td>...</td>\n      <td>0</td>\n      <td>NaN</td>\n      <td>0.0</td>\n      <td>0.0</td>\n      <td>0.0</td>\n      <td>0</td>\n      <td>0.0</td>\n      <td>0</td>\n      <td>0</td>\n      <td>0</td>\n    </tr>\n    <tr>\n      <th>87578</th>\n      <td>166</td>\n      <td>22019</td>\n      <td>1610612764</td>\n      <td>WAS</td>\n      <td>Washington Wizards</td>\n      <td>1521900048</td>\n      <td>2019-07-09</td>\n      <td>WAS vs. LAC</td>\n      <td>None</td>\n      <td>24</td>\n      <td>...</td>\n      <td>7</td>\n      <td>0.857</td>\n      <td>4.0</td>\n      <td>7.0</td>\n      <td>11.0</td>\n      <td>0</td>\n      <td>1.0</td>\n      <td>0</td>\n      <td>4</td>\n      <td>5</td>\n    </tr>\n    <tr>\n      <th>94364</th>\n      <td>151</td>\n      <td>22019</td>\n      <td>1610612766</td>\n      <td>CHA</td>\n      <td>Charlotte Hornets</td>\n      <td>1521900007</td>\n      <td>2019-07-05</td>\n      <td>CHA @ GSW</td>\n      <td>None</td>\n      <td>17</td>\n      <td>...</td>\n      <td>4</td>\n      <td>0.500</td>\n      <td>0.0</td>\n      <td>2.0</td>\n      <td>2.0</td>\n      <td>0</td>\n      <td>0.0</td>\n      <td>0</td>\n      <td>0</td>\n      <td>2</td>\n    </tr>\n  </tbody>\n</table>\n<p>20 rows × 28 columns</p>\n</div>"
     },
     "metadata": {},
     "execution_count": 32
    }
   ],
   "source": [
    "# Checking nulls in win/loss\n",
    "\n",
    "games[games['WL'].isnull()==True]"
   ]
  },
  {
   "cell_type": "code",
   "execution_count": 33,
   "metadata": {},
   "outputs": [
    {
     "output_type": "execute_result",
     "data": {
      "text/plain": [
       "      index SEASON_ID     TEAM_ID TEAM_ABBREVIATION            TEAM_NAME  \\\n",
       "179     179     22019  1610612738               BOS       Boston Celtics   \n",
       "180     180     22019  1610612738               BOS       Boston Celtics   \n",
       "7119    147     22019  1610612739               CLE  Cleveland Cavaliers   \n",
       "\n",
       "         GAME_ID   GAME_DATE      MATCHUP    WL  MIN  ...  FTA  FT_PCT  OREB  \\\n",
       "179   1521900035  2019-07-08  BOS vs. CLE  None   13  ...    0     NaN   2.0   \n",
       "180   1521900035  2019-07-08  BOS vs. CLE     W  187  ...   10    0.90  11.0   \n",
       "7119  1521900035  2019-07-08    CLE @ BOS     L  199  ...   20    0.75  10.0   \n",
       "\n",
       "      DREB   REB  AST   STL  BLK  TOV  PF  \n",
       "179    6.0   8.0    0   1.0    0    3   2  \n",
       "180   25.0  36.0   23  13.0    8   14  15  \n",
       "7119  21.0  31.0   15   6.0    3   20  11  \n",
       "\n",
       "[3 rows x 28 columns]"
      ],
      "text/html": "<div>\n<style scoped>\n    .dataframe tbody tr th:only-of-type {\n        vertical-align: middle;\n    }\n\n    .dataframe tbody tr th {\n        vertical-align: top;\n    }\n\n    .dataframe thead th {\n        text-align: right;\n    }\n</style>\n<table border=\"1\" class=\"dataframe\">\n  <thead>\n    <tr style=\"text-align: right;\">\n      <th></th>\n      <th>index</th>\n      <th>SEASON_ID</th>\n      <th>TEAM_ID</th>\n      <th>TEAM_ABBREVIATION</th>\n      <th>TEAM_NAME</th>\n      <th>GAME_ID</th>\n      <th>GAME_DATE</th>\n      <th>MATCHUP</th>\n      <th>WL</th>\n      <th>MIN</th>\n      <th>...</th>\n      <th>FTA</th>\n      <th>FT_PCT</th>\n      <th>OREB</th>\n      <th>DREB</th>\n      <th>REB</th>\n      <th>AST</th>\n      <th>STL</th>\n      <th>BLK</th>\n      <th>TOV</th>\n      <th>PF</th>\n    </tr>\n  </thead>\n  <tbody>\n    <tr>\n      <th>179</th>\n      <td>179</td>\n      <td>22019</td>\n      <td>1610612738</td>\n      <td>BOS</td>\n      <td>Boston Celtics</td>\n      <td>1521900035</td>\n      <td>2019-07-08</td>\n      <td>BOS vs. CLE</td>\n      <td>None</td>\n      <td>13</td>\n      <td>...</td>\n      <td>0</td>\n      <td>NaN</td>\n      <td>2.0</td>\n      <td>6.0</td>\n      <td>8.0</td>\n      <td>0</td>\n      <td>1.0</td>\n      <td>0</td>\n      <td>3</td>\n      <td>2</td>\n    </tr>\n    <tr>\n      <th>180</th>\n      <td>180</td>\n      <td>22019</td>\n      <td>1610612738</td>\n      <td>BOS</td>\n      <td>Boston Celtics</td>\n      <td>1521900035</td>\n      <td>2019-07-08</td>\n      <td>BOS vs. CLE</td>\n      <td>W</td>\n      <td>187</td>\n      <td>...</td>\n      <td>10</td>\n      <td>0.90</td>\n      <td>11.0</td>\n      <td>25.0</td>\n      <td>36.0</td>\n      <td>23</td>\n      <td>13.0</td>\n      <td>8</td>\n      <td>14</td>\n      <td>15</td>\n    </tr>\n    <tr>\n      <th>7119</th>\n      <td>147</td>\n      <td>22019</td>\n      <td>1610612739</td>\n      <td>CLE</td>\n      <td>Cleveland Cavaliers</td>\n      <td>1521900035</td>\n      <td>2019-07-08</td>\n      <td>CLE @ BOS</td>\n      <td>L</td>\n      <td>199</td>\n      <td>...</td>\n      <td>20</td>\n      <td>0.75</td>\n      <td>10.0</td>\n      <td>21.0</td>\n      <td>31.0</td>\n      <td>15</td>\n      <td>6.0</td>\n      <td>3</td>\n      <td>20</td>\n      <td>11</td>\n    </tr>\n  </tbody>\n</table>\n<p>3 rows × 28 columns</p>\n</div>"
     },
     "metadata": {},
     "execution_count": 33
    }
   ],
   "source": [
    "games[games['GAME_ID']=='1521900035']"
   ]
  },
  {
   "cell_type": "code",
   "execution_count": 34,
   "metadata": {},
   "outputs": [],
   "source": [
    "# Looks like a duplicate game with more info on index 180, dropping row 179\n",
    "\n",
    "games.drop(179, axis=0, inplace=True)"
   ]
  },
  {
   "cell_type": "code",
   "execution_count": 35,
   "metadata": {},
   "outputs": [
    {
     "output_type": "execute_result",
     "data": {
      "text/plain": [
       "       index SEASON_ID     TEAM_ID TEAM_ABBREVIATION        TEAM_NAME  \\\n",
       "1434    1434     12007  1610612738               BOS   Boston Celtics   \n",
       "46841   1281     12007  1610612751               NJN  New Jersey Nets   \n",
       "\n",
       "          GAME_ID   GAME_DATE      MATCHUP    WL  MIN  ...  FTA  FT_PCT  OREB  \\\n",
       "1434   0010700072  2007-10-19  BOS vs. NJN  None  120  ...   12   0.750   3.0   \n",
       "46841  0010700072  2007-10-19    NJN @ BOS  None  120  ...   18   0.722   7.0   \n",
       "\n",
       "       DREB   REB  AST  STL  BLK  TOV  PF  \n",
       "1434   15.0  18.0    8  5.0    2   12  20  \n",
       "46841  12.0  19.0    7  3.0    1   11  13  \n",
       "\n",
       "[2 rows x 28 columns]"
      ],
      "text/html": "<div>\n<style scoped>\n    .dataframe tbody tr th:only-of-type {\n        vertical-align: middle;\n    }\n\n    .dataframe tbody tr th {\n        vertical-align: top;\n    }\n\n    .dataframe thead th {\n        text-align: right;\n    }\n</style>\n<table border=\"1\" class=\"dataframe\">\n  <thead>\n    <tr style=\"text-align: right;\">\n      <th></th>\n      <th>index</th>\n      <th>SEASON_ID</th>\n      <th>TEAM_ID</th>\n      <th>TEAM_ABBREVIATION</th>\n      <th>TEAM_NAME</th>\n      <th>GAME_ID</th>\n      <th>GAME_DATE</th>\n      <th>MATCHUP</th>\n      <th>WL</th>\n      <th>MIN</th>\n      <th>...</th>\n      <th>FTA</th>\n      <th>FT_PCT</th>\n      <th>OREB</th>\n      <th>DREB</th>\n      <th>REB</th>\n      <th>AST</th>\n      <th>STL</th>\n      <th>BLK</th>\n      <th>TOV</th>\n      <th>PF</th>\n    </tr>\n  </thead>\n  <tbody>\n    <tr>\n      <th>1434</th>\n      <td>1434</td>\n      <td>12007</td>\n      <td>1610612738</td>\n      <td>BOS</td>\n      <td>Boston Celtics</td>\n      <td>0010700072</td>\n      <td>2007-10-19</td>\n      <td>BOS vs. NJN</td>\n      <td>None</td>\n      <td>120</td>\n      <td>...</td>\n      <td>12</td>\n      <td>0.750</td>\n      <td>3.0</td>\n      <td>15.0</td>\n      <td>18.0</td>\n      <td>8</td>\n      <td>5.0</td>\n      <td>2</td>\n      <td>12</td>\n      <td>20</td>\n    </tr>\n    <tr>\n      <th>46841</th>\n      <td>1281</td>\n      <td>12007</td>\n      <td>1610612751</td>\n      <td>NJN</td>\n      <td>New Jersey Nets</td>\n      <td>0010700072</td>\n      <td>2007-10-19</td>\n      <td>NJN @ BOS</td>\n      <td>None</td>\n      <td>120</td>\n      <td>...</td>\n      <td>18</td>\n      <td>0.722</td>\n      <td>7.0</td>\n      <td>12.0</td>\n      <td>19.0</td>\n      <td>7</td>\n      <td>3.0</td>\n      <td>1</td>\n      <td>11</td>\n      <td>13</td>\n    </tr>\n  </tbody>\n</table>\n<p>2 rows × 28 columns</p>\n</div>"
     },
     "metadata": {},
     "execution_count": 35
    }
   ],
   "source": [
    "games[games['GAME_ID']=='0010700072']"
   ]
  },
  {
   "cell_type": "code",
   "execution_count": 36,
   "metadata": {},
   "outputs": [
    {
     "output_type": "execute_result",
     "data": {
      "text/plain": [
       "1434     36\n",
       "46841    33\n",
       "Name: PTS, dtype: int64"
      ]
     },
     "metadata": {},
     "execution_count": 36
    }
   ],
   "source": [
    "# Checking points\n",
    "games[games['GAME_ID']=='0010700072']['PTS']"
   ]
  },
  {
   "cell_type": "code",
   "execution_count": 37,
   "metadata": {},
   "outputs": [],
   "source": [
    "# Upon looking this game up it sems it was cencelled at halftime due to condensation on the court but counted as a win for the Celtics\n",
    "\n",
    "# Celtics\n",
    "games.at[1434, 'WL'] = 'W'\n",
    "\n",
    "# Nets\n",
    "games.at[46841, 'WL'] = 'L'"
   ]
  },
  {
   "cell_type": "code",
   "execution_count": 38,
   "metadata": {},
   "outputs": [
    {
     "output_type": "execute_result",
     "data": {
      "text/plain": [
       "       index SEASON_ID     TEAM_ID TEAM_ABBREVIATION        TEAM_NAME  \\\n",
       "1434    1434     12007  1610612738               BOS   Boston Celtics   \n",
       "46841   1281     12007  1610612751               NJN  New Jersey Nets   \n",
       "\n",
       "          GAME_ID   GAME_DATE      MATCHUP WL  MIN  ...  FTA  FT_PCT  OREB  \\\n",
       "1434   0010700072  2007-10-19  BOS vs. NJN  W  120  ...   12   0.750   3.0   \n",
       "46841  0010700072  2007-10-19    NJN @ BOS  L  120  ...   18   0.722   7.0   \n",
       "\n",
       "       DREB   REB  AST  STL  BLK  TOV  PF  \n",
       "1434   15.0  18.0    8  5.0    2   12  20  \n",
       "46841  12.0  19.0    7  3.0    1   11  13  \n",
       "\n",
       "[2 rows x 28 columns]"
      ],
      "text/html": "<div>\n<style scoped>\n    .dataframe tbody tr th:only-of-type {\n        vertical-align: middle;\n    }\n\n    .dataframe tbody tr th {\n        vertical-align: top;\n    }\n\n    .dataframe thead th {\n        text-align: right;\n    }\n</style>\n<table border=\"1\" class=\"dataframe\">\n  <thead>\n    <tr style=\"text-align: right;\">\n      <th></th>\n      <th>index</th>\n      <th>SEASON_ID</th>\n      <th>TEAM_ID</th>\n      <th>TEAM_ABBREVIATION</th>\n      <th>TEAM_NAME</th>\n      <th>GAME_ID</th>\n      <th>GAME_DATE</th>\n      <th>MATCHUP</th>\n      <th>WL</th>\n      <th>MIN</th>\n      <th>...</th>\n      <th>FTA</th>\n      <th>FT_PCT</th>\n      <th>OREB</th>\n      <th>DREB</th>\n      <th>REB</th>\n      <th>AST</th>\n      <th>STL</th>\n      <th>BLK</th>\n      <th>TOV</th>\n      <th>PF</th>\n    </tr>\n  </thead>\n  <tbody>\n    <tr>\n      <th>1434</th>\n      <td>1434</td>\n      <td>12007</td>\n      <td>1610612738</td>\n      <td>BOS</td>\n      <td>Boston Celtics</td>\n      <td>0010700072</td>\n      <td>2007-10-19</td>\n      <td>BOS vs. NJN</td>\n      <td>W</td>\n      <td>120</td>\n      <td>...</td>\n      <td>12</td>\n      <td>0.750</td>\n      <td>3.0</td>\n      <td>15.0</td>\n      <td>18.0</td>\n      <td>8</td>\n      <td>5.0</td>\n      <td>2</td>\n      <td>12</td>\n      <td>20</td>\n    </tr>\n    <tr>\n      <th>46841</th>\n      <td>1281</td>\n      <td>12007</td>\n      <td>1610612751</td>\n      <td>NJN</td>\n      <td>New Jersey Nets</td>\n      <td>0010700072</td>\n      <td>2007-10-19</td>\n      <td>NJN @ BOS</td>\n      <td>L</td>\n      <td>120</td>\n      <td>...</td>\n      <td>18</td>\n      <td>0.722</td>\n      <td>7.0</td>\n      <td>12.0</td>\n      <td>19.0</td>\n      <td>7</td>\n      <td>3.0</td>\n      <td>1</td>\n      <td>11</td>\n      <td>13</td>\n    </tr>\n  </tbody>\n</table>\n<p>2 rows × 28 columns</p>\n</div>"
     },
     "metadata": {},
     "execution_count": 38
    }
   ],
   "source": [
    "games[games['GAME_ID']=='0010700072']"
   ]
  },
  {
   "cell_type": "code",
   "execution_count": 39,
   "metadata": {},
   "outputs": [
    {
     "output_type": "execute_result",
     "data": {
      "text/plain": [
       "       index SEASON_ID     TEAM_ID TEAM_ABBREVIATION             TEAM_NAME  \\\n",
       "10743    347     12017  1610612740               NOP  New Orleans Pelicans   \n",
       "12467    330     12017  1610612741               CHI         Chicago Bulls   \n",
       "12468    331     12017  1610612741               CHI         Chicago Bulls   \n",
       "\n",
       "          GAME_ID   GAME_DATE      MATCHUP    WL  MIN  ...  FTA  FT_PCT  OREB  \\\n",
       "10743  0011700012  2017-10-03  NOP vs. CHI     L  230  ...   32   0.781   6.0   \n",
       "12467  0011700012  2017-10-03    CHI @ NOP  None    0  ...    0     NaN   0.0   \n",
       "12468  0011700012  2017-10-03    CHI @ NOP     W  240  ...   13   0.692   6.0   \n",
       "\n",
       "       DREB   REB  AST   STL  BLK  TOV  PF  \n",
       "10743  38.0  44.0   25  10.0    6   15  17  \n",
       "12467   0.0   0.0    0   0.0    0    0   0  \n",
       "12468  39.0  45.0   33   9.0    3   15  26  \n",
       "\n",
       "[3 rows x 28 columns]"
      ],
      "text/html": "<div>\n<style scoped>\n    .dataframe tbody tr th:only-of-type {\n        vertical-align: middle;\n    }\n\n    .dataframe tbody tr th {\n        vertical-align: top;\n    }\n\n    .dataframe thead th {\n        text-align: right;\n    }\n</style>\n<table border=\"1\" class=\"dataframe\">\n  <thead>\n    <tr style=\"text-align: right;\">\n      <th></th>\n      <th>index</th>\n      <th>SEASON_ID</th>\n      <th>TEAM_ID</th>\n      <th>TEAM_ABBREVIATION</th>\n      <th>TEAM_NAME</th>\n      <th>GAME_ID</th>\n      <th>GAME_DATE</th>\n      <th>MATCHUP</th>\n      <th>WL</th>\n      <th>MIN</th>\n      <th>...</th>\n      <th>FTA</th>\n      <th>FT_PCT</th>\n      <th>OREB</th>\n      <th>DREB</th>\n      <th>REB</th>\n      <th>AST</th>\n      <th>STL</th>\n      <th>BLK</th>\n      <th>TOV</th>\n      <th>PF</th>\n    </tr>\n  </thead>\n  <tbody>\n    <tr>\n      <th>10743</th>\n      <td>347</td>\n      <td>12017</td>\n      <td>1610612740</td>\n      <td>NOP</td>\n      <td>New Orleans Pelicans</td>\n      <td>0011700012</td>\n      <td>2017-10-03</td>\n      <td>NOP vs. CHI</td>\n      <td>L</td>\n      <td>230</td>\n      <td>...</td>\n      <td>32</td>\n      <td>0.781</td>\n      <td>6.0</td>\n      <td>38.0</td>\n      <td>44.0</td>\n      <td>25</td>\n      <td>10.0</td>\n      <td>6</td>\n      <td>15</td>\n      <td>17</td>\n    </tr>\n    <tr>\n      <th>12467</th>\n      <td>330</td>\n      <td>12017</td>\n      <td>1610612741</td>\n      <td>CHI</td>\n      <td>Chicago Bulls</td>\n      <td>0011700012</td>\n      <td>2017-10-03</td>\n      <td>CHI @ NOP</td>\n      <td>None</td>\n      <td>0</td>\n      <td>...</td>\n      <td>0</td>\n      <td>NaN</td>\n      <td>0.0</td>\n      <td>0.0</td>\n      <td>0.0</td>\n      <td>0</td>\n      <td>0.0</td>\n      <td>0</td>\n      <td>0</td>\n      <td>0</td>\n    </tr>\n    <tr>\n      <th>12468</th>\n      <td>331</td>\n      <td>12017</td>\n      <td>1610612741</td>\n      <td>CHI</td>\n      <td>Chicago Bulls</td>\n      <td>0011700012</td>\n      <td>2017-10-03</td>\n      <td>CHI @ NOP</td>\n      <td>W</td>\n      <td>240</td>\n      <td>...</td>\n      <td>13</td>\n      <td>0.692</td>\n      <td>6.0</td>\n      <td>39.0</td>\n      <td>45.0</td>\n      <td>33</td>\n      <td>9.0</td>\n      <td>3</td>\n      <td>15</td>\n      <td>26</td>\n    </tr>\n  </tbody>\n</table>\n<p>3 rows × 28 columns</p>\n</div>"
     },
     "metadata": {},
     "execution_count": 39
    }
   ],
   "source": [
    "games[games['GAME_ID']=='0011700012']"
   ]
  },
  {
   "cell_type": "code",
   "execution_count": 40,
   "metadata": {},
   "outputs": [],
   "source": [
    "# This game was a win for the bulls, dropping the row with bad information\n",
    "\n",
    "games.drop(12466, axis=0, inplace=True)"
   ]
  },
  {
   "cell_type": "code",
   "execution_count": 41,
   "metadata": {},
   "outputs": [
    {
     "output_type": "execute_result",
     "data": {
      "text/plain": [
       "       index SEASON_ID     TEAM_ID TEAM_ABBREVIATION       TEAM_NAME  \\\n",
       "20317   1245     12008  1610612743               DEN  Denver Nuggets   \n",
       "63187   1189     12008  1610612756               PHX    Phoenix Suns   \n",
       "\n",
       "          GAME_ID   GAME_DATE      MATCHUP    WL  MIN  ...  FTA  FT_PCT  OREB  \\\n",
       "20317  0010800035  2008-10-11    DEN @ PHX  None  240  ...   38   0.474  15.0   \n",
       "63187  0010800035  2008-10-11  PHX vs. DEN  None  239  ...   29   0.690  22.0   \n",
       "\n",
       "       DREB   REB  AST   STL  BLK  TOV  PF  \n",
       "20317  36.0  51.0    7  11.0    5   13  26  \n",
       "63187  30.0  52.0    8   5.0   11   19  27  \n",
       "\n",
       "[2 rows x 28 columns]"
      ],
      "text/html": "<div>\n<style scoped>\n    .dataframe tbody tr th:only-of-type {\n        vertical-align: middle;\n    }\n\n    .dataframe tbody tr th {\n        vertical-align: top;\n    }\n\n    .dataframe thead th {\n        text-align: right;\n    }\n</style>\n<table border=\"1\" class=\"dataframe\">\n  <thead>\n    <tr style=\"text-align: right;\">\n      <th></th>\n      <th>index</th>\n      <th>SEASON_ID</th>\n      <th>TEAM_ID</th>\n      <th>TEAM_ABBREVIATION</th>\n      <th>TEAM_NAME</th>\n      <th>GAME_ID</th>\n      <th>GAME_DATE</th>\n      <th>MATCHUP</th>\n      <th>WL</th>\n      <th>MIN</th>\n      <th>...</th>\n      <th>FTA</th>\n      <th>FT_PCT</th>\n      <th>OREB</th>\n      <th>DREB</th>\n      <th>REB</th>\n      <th>AST</th>\n      <th>STL</th>\n      <th>BLK</th>\n      <th>TOV</th>\n      <th>PF</th>\n    </tr>\n  </thead>\n  <tbody>\n    <tr>\n      <th>20317</th>\n      <td>1245</td>\n      <td>12008</td>\n      <td>1610612743</td>\n      <td>DEN</td>\n      <td>Denver Nuggets</td>\n      <td>0010800035</td>\n      <td>2008-10-11</td>\n      <td>DEN @ PHX</td>\n      <td>None</td>\n      <td>240</td>\n      <td>...</td>\n      <td>38</td>\n      <td>0.474</td>\n      <td>15.0</td>\n      <td>36.0</td>\n      <td>51.0</td>\n      <td>7</td>\n      <td>11.0</td>\n      <td>5</td>\n      <td>13</td>\n      <td>26</td>\n    </tr>\n    <tr>\n      <th>63187</th>\n      <td>1189</td>\n      <td>12008</td>\n      <td>1610612756</td>\n      <td>PHX</td>\n      <td>Phoenix Suns</td>\n      <td>0010800035</td>\n      <td>2008-10-11</td>\n      <td>PHX vs. DEN</td>\n      <td>None</td>\n      <td>239</td>\n      <td>...</td>\n      <td>29</td>\n      <td>0.690</td>\n      <td>22.0</td>\n      <td>30.0</td>\n      <td>52.0</td>\n      <td>8</td>\n      <td>5.0</td>\n      <td>11</td>\n      <td>19</td>\n      <td>27</td>\n    </tr>\n  </tbody>\n</table>\n<p>2 rows × 28 columns</p>\n</div>"
     },
     "metadata": {},
     "execution_count": 41
    }
   ],
   "source": [
    "games[games['GAME_ID']=='0010800035']"
   ]
  },
  {
   "cell_type": "code",
   "execution_count": 42,
   "metadata": {},
   "outputs": [],
   "source": [
    "# This game was a win for Denver\n",
    "\n",
    "# Nuggets\n",
    "games.at[20317, 'WL'] = 'W'\n",
    "\n",
    "# Suns\n",
    "games.at[63187, 'WL'] = 'L'"
   ]
  },
  {
   "cell_type": "code",
   "execution_count": 43,
   "metadata": {},
   "outputs": [
    {
     "output_type": "execute_result",
     "data": {
      "text/plain": [
       "       index SEASON_ID     TEAM_ID TEAM_ABBREVIATION              TEAM_NAME  \\\n",
       "22616    151     22019  1610612744               GSW  Golden State Warriors   \n",
       "94364    151     22019  1610612766               CHA      Charlotte Hornets   \n",
       "94365    152     22019  1610612766               CHA      Charlotte Hornets   \n",
       "\n",
       "          GAME_ID   GAME_DATE      MATCHUP    WL  MIN  ...  FTA  FT_PCT  OREB  \\\n",
       "22616  1521900007  2019-07-05  GSW vs. CHA     L  200  ...    9   0.889   8.0   \n",
       "94364  1521900007  2019-07-05    CHA @ GSW  None   17  ...    4   0.500   0.0   \n",
       "94365  1521900007  2019-07-05    CHA @ GSW     W  183  ...   16   0.875  11.0   \n",
       "\n",
       "       DREB   REB  AST  STL  BLK  TOV  PF  \n",
       "22616  28.0  36.0   19  9.0    3   13  15  \n",
       "94364   2.0   2.0    0  0.0    0    0   2  \n",
       "94365  30.0  41.0   14  7.0    6   16  13  \n",
       "\n",
       "[3 rows x 28 columns]"
      ],
      "text/html": "<div>\n<style scoped>\n    .dataframe tbody tr th:only-of-type {\n        vertical-align: middle;\n    }\n\n    .dataframe tbody tr th {\n        vertical-align: top;\n    }\n\n    .dataframe thead th {\n        text-align: right;\n    }\n</style>\n<table border=\"1\" class=\"dataframe\">\n  <thead>\n    <tr style=\"text-align: right;\">\n      <th></th>\n      <th>index</th>\n      <th>SEASON_ID</th>\n      <th>TEAM_ID</th>\n      <th>TEAM_ABBREVIATION</th>\n      <th>TEAM_NAME</th>\n      <th>GAME_ID</th>\n      <th>GAME_DATE</th>\n      <th>MATCHUP</th>\n      <th>WL</th>\n      <th>MIN</th>\n      <th>...</th>\n      <th>FTA</th>\n      <th>FT_PCT</th>\n      <th>OREB</th>\n      <th>DREB</th>\n      <th>REB</th>\n      <th>AST</th>\n      <th>STL</th>\n      <th>BLK</th>\n      <th>TOV</th>\n      <th>PF</th>\n    </tr>\n  </thead>\n  <tbody>\n    <tr>\n      <th>22616</th>\n      <td>151</td>\n      <td>22019</td>\n      <td>1610612744</td>\n      <td>GSW</td>\n      <td>Golden State Warriors</td>\n      <td>1521900007</td>\n      <td>2019-07-05</td>\n      <td>GSW vs. CHA</td>\n      <td>L</td>\n      <td>200</td>\n      <td>...</td>\n      <td>9</td>\n      <td>0.889</td>\n      <td>8.0</td>\n      <td>28.0</td>\n      <td>36.0</td>\n      <td>19</td>\n      <td>9.0</td>\n      <td>3</td>\n      <td>13</td>\n      <td>15</td>\n    </tr>\n    <tr>\n      <th>94364</th>\n      <td>151</td>\n      <td>22019</td>\n      <td>1610612766</td>\n      <td>CHA</td>\n      <td>Charlotte Hornets</td>\n      <td>1521900007</td>\n      <td>2019-07-05</td>\n      <td>CHA @ GSW</td>\n      <td>None</td>\n      <td>17</td>\n      <td>...</td>\n      <td>4</td>\n      <td>0.500</td>\n      <td>0.0</td>\n      <td>2.0</td>\n      <td>2.0</td>\n      <td>0</td>\n      <td>0.0</td>\n      <td>0</td>\n      <td>0</td>\n      <td>2</td>\n    </tr>\n    <tr>\n      <th>94365</th>\n      <td>152</td>\n      <td>22019</td>\n      <td>1610612766</td>\n      <td>CHA</td>\n      <td>Charlotte Hornets</td>\n      <td>1521900007</td>\n      <td>2019-07-05</td>\n      <td>CHA @ GSW</td>\n      <td>W</td>\n      <td>183</td>\n      <td>...</td>\n      <td>16</td>\n      <td>0.875</td>\n      <td>11.0</td>\n      <td>30.0</td>\n      <td>41.0</td>\n      <td>14</td>\n      <td>7.0</td>\n      <td>6</td>\n      <td>16</td>\n      <td>13</td>\n    </tr>\n  </tbody>\n</table>\n<p>3 rows × 28 columns</p>\n</div>"
     },
     "metadata": {},
     "execution_count": 43
    }
   ],
   "source": [
    "games[games['GAME_ID']=='1521900007']"
   ]
  },
  {
   "cell_type": "code",
   "execution_count": 44,
   "metadata": {},
   "outputs": [],
   "source": [
    "# The remaining null entries in WL are duplicate rows with bad data\n",
    "\n",
    "games.dropna(subset=['WL'], axis=0, inplace=True)"
   ]
  },
  {
   "cell_type": "code",
   "execution_count": 45,
   "metadata": {},
   "outputs": [
    {
     "output_type": "execute_result",
     "data": {
      "text/plain": [
       "index                0\n",
       "SEASON_ID            0\n",
       "TEAM_ID              0\n",
       "TEAM_ABBREVIATION    0\n",
       "TEAM_NAME            0\n",
       "GAME_ID              0\n",
       "GAME_DATE            0\n",
       "MATCHUP              0\n",
       "WL                   0\n",
       "MIN                  0\n",
       "PTS                  0\n",
       "FGM                  0\n",
       "FGA                  0\n",
       "FG_PCT               0\n",
       "FG3M                 0\n",
       "FG3A                 0\n",
       "FG3_PCT              0\n",
       "FTM                  0\n",
       "FTA                  0\n",
       "FT_PCT               1\n",
       "OREB                 4\n",
       "DREB                 4\n",
       "REB                  4\n",
       "AST                  0\n",
       "STL                  2\n",
       "BLK                  0\n",
       "TOV                  0\n",
       "PF                   0\n",
       "dtype: int64"
      ]
     },
     "metadata": {},
     "execution_count": 45
    }
   ],
   "source": [
    "games.isnull().sum()"
   ]
  },
  {
   "cell_type": "code",
   "execution_count": 46,
   "metadata": {},
   "outputs": [
    {
     "output_type": "execute_result",
     "data": {
      "text/plain": [
       "       index SEASON_ID     TEAM_ID TEAM_ABBREVIATION     TEAM_NAME  \\\n",
       "63497   1499     12005  1610612756               PHX  Phoenix Suns   \n",
       "\n",
       "          GAME_ID   GAME_DATE    MATCHUP WL  MIN  ...  FTA  FT_PCT  OREB  \\\n",
       "63497  0010500109  2005-10-27  DET @ DAL  O   24  ...    0     NaN   0.0   \n",
       "\n",
       "       DREB  REB  AST  STL  BLK  TOV  PF  \n",
       "63497   0.0  0.0    0  0.0    0    0   0  \n",
       "\n",
       "[1 rows x 28 columns]"
      ],
      "text/html": "<div>\n<style scoped>\n    .dataframe tbody tr th:only-of-type {\n        vertical-align: middle;\n    }\n\n    .dataframe tbody tr th {\n        vertical-align: top;\n    }\n\n    .dataframe thead th {\n        text-align: right;\n    }\n</style>\n<table border=\"1\" class=\"dataframe\">\n  <thead>\n    <tr style=\"text-align: right;\">\n      <th></th>\n      <th>index</th>\n      <th>SEASON_ID</th>\n      <th>TEAM_ID</th>\n      <th>TEAM_ABBREVIATION</th>\n      <th>TEAM_NAME</th>\n      <th>GAME_ID</th>\n      <th>GAME_DATE</th>\n      <th>MATCHUP</th>\n      <th>WL</th>\n      <th>MIN</th>\n      <th>...</th>\n      <th>FTA</th>\n      <th>FT_PCT</th>\n      <th>OREB</th>\n      <th>DREB</th>\n      <th>REB</th>\n      <th>AST</th>\n      <th>STL</th>\n      <th>BLK</th>\n      <th>TOV</th>\n      <th>PF</th>\n    </tr>\n  </thead>\n  <tbody>\n    <tr>\n      <th>63497</th>\n      <td>1499</td>\n      <td>12005</td>\n      <td>1610612756</td>\n      <td>PHX</td>\n      <td>Phoenix Suns</td>\n      <td>0010500109</td>\n      <td>2005-10-27</td>\n      <td>DET @ DAL</td>\n      <td>O</td>\n      <td>24</td>\n      <td>...</td>\n      <td>0</td>\n      <td>NaN</td>\n      <td>0.0</td>\n      <td>0.0</td>\n      <td>0.0</td>\n      <td>0</td>\n      <td>0.0</td>\n      <td>0</td>\n      <td>0</td>\n      <td>0</td>\n    </tr>\n  </tbody>\n</table>\n<p>1 rows × 28 columns</p>\n</div>"
     },
     "metadata": {},
     "execution_count": 46
    }
   ],
   "source": [
    "# Checking nulls in FT_PCT\n",
    "\n",
    "games[games['FT_PCT'].isnull()==True]"
   ]
  },
  {
   "cell_type": "code",
   "execution_count": 47,
   "metadata": {},
   "outputs": [],
   "source": [
    "# It looks like this is null because no free throws were attempted\n",
    "\n",
    "games.at[63497, 'FT_PCT'] = 0.0"
   ]
  },
  {
   "cell_type": "code",
   "execution_count": 48,
   "metadata": {},
   "outputs": [
    {
     "output_type": "execute_result",
     "data": {
      "text/plain": [
       "       index SEASON_ID     TEAM_ID TEAM_ABBREVIATION              TEAM_NAME  \\\n",
       "25690   3225     21984  1610612744               GOS  Golden State Warriors   \n",
       "25767   3302     21984  1610612744               GOS  Golden State Warriors   \n",
       "72039   3143     21984  1610612758               KCK      Kansas City Kings   \n",
       "85068   3489     21983  1610612762               UTH              Utah Jazz   \n",
       "\n",
       "          GAME_ID   GAME_DATE      MATCHUP WL  MIN  ...  FTA  FT_PCT  OREB  \\\n",
       "25690  0028400895  1985-04-06  GOS vs. KCK  W  240  ...   52   0.904   NaN   \n",
       "25767  0028400006  1984-10-26  GOS vs. PHX  L  235  ...   39   0.718   NaN   \n",
       "72039  0028400895  1985-04-06    KCK @ GOS  L  198  ...   25   0.840   NaN   \n",
       "85068  0028300147  1983-11-23  UTH vs. CHI  L  240  ...   41   0.902   NaN   \n",
       "\n",
       "       DREB  REB  AST  STL  BLK  TOV  PF  \n",
       "25690   NaN  NaN   27  4.0    7    5  23  \n",
       "25767   NaN  NaN   20  9.0    8   17  30  \n",
       "72039   NaN  NaN   28  6.0    1    8  31  \n",
       "85068   NaN  NaN   18  9.0    6    4  24  \n",
       "\n",
       "[4 rows x 28 columns]"
      ],
      "text/html": "<div>\n<style scoped>\n    .dataframe tbody tr th:only-of-type {\n        vertical-align: middle;\n    }\n\n    .dataframe tbody tr th {\n        vertical-align: top;\n    }\n\n    .dataframe thead th {\n        text-align: right;\n    }\n</style>\n<table border=\"1\" class=\"dataframe\">\n  <thead>\n    <tr style=\"text-align: right;\">\n      <th></th>\n      <th>index</th>\n      <th>SEASON_ID</th>\n      <th>TEAM_ID</th>\n      <th>TEAM_ABBREVIATION</th>\n      <th>TEAM_NAME</th>\n      <th>GAME_ID</th>\n      <th>GAME_DATE</th>\n      <th>MATCHUP</th>\n      <th>WL</th>\n      <th>MIN</th>\n      <th>...</th>\n      <th>FTA</th>\n      <th>FT_PCT</th>\n      <th>OREB</th>\n      <th>DREB</th>\n      <th>REB</th>\n      <th>AST</th>\n      <th>STL</th>\n      <th>BLK</th>\n      <th>TOV</th>\n      <th>PF</th>\n    </tr>\n  </thead>\n  <tbody>\n    <tr>\n      <th>25690</th>\n      <td>3225</td>\n      <td>21984</td>\n      <td>1610612744</td>\n      <td>GOS</td>\n      <td>Golden State Warriors</td>\n      <td>0028400895</td>\n      <td>1985-04-06</td>\n      <td>GOS vs. KCK</td>\n      <td>W</td>\n      <td>240</td>\n      <td>...</td>\n      <td>52</td>\n      <td>0.904</td>\n      <td>NaN</td>\n      <td>NaN</td>\n      <td>NaN</td>\n      <td>27</td>\n      <td>4.0</td>\n      <td>7</td>\n      <td>5</td>\n      <td>23</td>\n    </tr>\n    <tr>\n      <th>25767</th>\n      <td>3302</td>\n      <td>21984</td>\n      <td>1610612744</td>\n      <td>GOS</td>\n      <td>Golden State Warriors</td>\n      <td>0028400006</td>\n      <td>1984-10-26</td>\n      <td>GOS vs. PHX</td>\n      <td>L</td>\n      <td>235</td>\n      <td>...</td>\n      <td>39</td>\n      <td>0.718</td>\n      <td>NaN</td>\n      <td>NaN</td>\n      <td>NaN</td>\n      <td>20</td>\n      <td>9.0</td>\n      <td>8</td>\n      <td>17</td>\n      <td>30</td>\n    </tr>\n    <tr>\n      <th>72039</th>\n      <td>3143</td>\n      <td>21984</td>\n      <td>1610612758</td>\n      <td>KCK</td>\n      <td>Kansas City Kings</td>\n      <td>0028400895</td>\n      <td>1985-04-06</td>\n      <td>KCK @ GOS</td>\n      <td>L</td>\n      <td>198</td>\n      <td>...</td>\n      <td>25</td>\n      <td>0.840</td>\n      <td>NaN</td>\n      <td>NaN</td>\n      <td>NaN</td>\n      <td>28</td>\n      <td>6.0</td>\n      <td>1</td>\n      <td>8</td>\n      <td>31</td>\n    </tr>\n    <tr>\n      <th>85068</th>\n      <td>3489</td>\n      <td>21983</td>\n      <td>1610612762</td>\n      <td>UTH</td>\n      <td>Utah Jazz</td>\n      <td>0028300147</td>\n      <td>1983-11-23</td>\n      <td>UTH vs. CHI</td>\n      <td>L</td>\n      <td>240</td>\n      <td>...</td>\n      <td>41</td>\n      <td>0.902</td>\n      <td>NaN</td>\n      <td>NaN</td>\n      <td>NaN</td>\n      <td>18</td>\n      <td>9.0</td>\n      <td>6</td>\n      <td>4</td>\n      <td>24</td>\n    </tr>\n  </tbody>\n</table>\n<p>4 rows × 28 columns</p>\n</div>"
     },
     "metadata": {},
     "execution_count": 48
    }
   ],
   "source": [
    "# Checking nulls in offensive rebounds\n",
    "\n",
    "games[games['OREB'].isnull()==True]"
   ]
  },
  {
   "cell_type": "code",
   "execution_count": 49,
   "metadata": {},
   "outputs": [
    {
     "output_type": "execute_result",
     "data": {
      "text/plain": [
       "       index SEASON_ID     TEAM_ID TEAM_ABBREVIATION              TEAM_NAME  \\\n",
       "25690   3225     21984  1610612744               GOS  Golden State Warriors   \n",
       "25767   3302     21984  1610612744               GOS  Golden State Warriors   \n",
       "72039   3143     21984  1610612758               KCK      Kansas City Kings   \n",
       "85068   3489     21983  1610612762               UTH              Utah Jazz   \n",
       "\n",
       "          GAME_ID   GAME_DATE      MATCHUP WL  MIN  ...  FTA  FT_PCT  OREB  \\\n",
       "25690  0028400895  1985-04-06  GOS vs. KCK  W  240  ...   52   0.904   NaN   \n",
       "25767  0028400006  1984-10-26  GOS vs. PHX  L  235  ...   39   0.718   NaN   \n",
       "72039  0028400895  1985-04-06    KCK @ GOS  L  198  ...   25   0.840   NaN   \n",
       "85068  0028300147  1983-11-23  UTH vs. CHI  L  240  ...   41   0.902   NaN   \n",
       "\n",
       "       DREB  REB  AST  STL  BLK  TOV  PF  \n",
       "25690   NaN  NaN   27  4.0    7    5  23  \n",
       "25767   NaN  NaN   20  9.0    8   17  30  \n",
       "72039   NaN  NaN   28  6.0    1    8  31  \n",
       "85068   NaN  NaN   18  9.0    6    4  24  \n",
       "\n",
       "[4 rows x 28 columns]"
      ],
      "text/html": "<div>\n<style scoped>\n    .dataframe tbody tr th:only-of-type {\n        vertical-align: middle;\n    }\n\n    .dataframe tbody tr th {\n        vertical-align: top;\n    }\n\n    .dataframe thead th {\n        text-align: right;\n    }\n</style>\n<table border=\"1\" class=\"dataframe\">\n  <thead>\n    <tr style=\"text-align: right;\">\n      <th></th>\n      <th>index</th>\n      <th>SEASON_ID</th>\n      <th>TEAM_ID</th>\n      <th>TEAM_ABBREVIATION</th>\n      <th>TEAM_NAME</th>\n      <th>GAME_ID</th>\n      <th>GAME_DATE</th>\n      <th>MATCHUP</th>\n      <th>WL</th>\n      <th>MIN</th>\n      <th>...</th>\n      <th>FTA</th>\n      <th>FT_PCT</th>\n      <th>OREB</th>\n      <th>DREB</th>\n      <th>REB</th>\n      <th>AST</th>\n      <th>STL</th>\n      <th>BLK</th>\n      <th>TOV</th>\n      <th>PF</th>\n    </tr>\n  </thead>\n  <tbody>\n    <tr>\n      <th>25690</th>\n      <td>3225</td>\n      <td>21984</td>\n      <td>1610612744</td>\n      <td>GOS</td>\n      <td>Golden State Warriors</td>\n      <td>0028400895</td>\n      <td>1985-04-06</td>\n      <td>GOS vs. KCK</td>\n      <td>W</td>\n      <td>240</td>\n      <td>...</td>\n      <td>52</td>\n      <td>0.904</td>\n      <td>NaN</td>\n      <td>NaN</td>\n      <td>NaN</td>\n      <td>27</td>\n      <td>4.0</td>\n      <td>7</td>\n      <td>5</td>\n      <td>23</td>\n    </tr>\n    <tr>\n      <th>25767</th>\n      <td>3302</td>\n      <td>21984</td>\n      <td>1610612744</td>\n      <td>GOS</td>\n      <td>Golden State Warriors</td>\n      <td>0028400006</td>\n      <td>1984-10-26</td>\n      <td>GOS vs. PHX</td>\n      <td>L</td>\n      <td>235</td>\n      <td>...</td>\n      <td>39</td>\n      <td>0.718</td>\n      <td>NaN</td>\n      <td>NaN</td>\n      <td>NaN</td>\n      <td>20</td>\n      <td>9.0</td>\n      <td>8</td>\n      <td>17</td>\n      <td>30</td>\n    </tr>\n    <tr>\n      <th>72039</th>\n      <td>3143</td>\n      <td>21984</td>\n      <td>1610612758</td>\n      <td>KCK</td>\n      <td>Kansas City Kings</td>\n      <td>0028400895</td>\n      <td>1985-04-06</td>\n      <td>KCK @ GOS</td>\n      <td>L</td>\n      <td>198</td>\n      <td>...</td>\n      <td>25</td>\n      <td>0.840</td>\n      <td>NaN</td>\n      <td>NaN</td>\n      <td>NaN</td>\n      <td>28</td>\n      <td>6.0</td>\n      <td>1</td>\n      <td>8</td>\n      <td>31</td>\n    </tr>\n    <tr>\n      <th>85068</th>\n      <td>3489</td>\n      <td>21983</td>\n      <td>1610612762</td>\n      <td>UTH</td>\n      <td>Utah Jazz</td>\n      <td>0028300147</td>\n      <td>1983-11-23</td>\n      <td>UTH vs. CHI</td>\n      <td>L</td>\n      <td>240</td>\n      <td>...</td>\n      <td>41</td>\n      <td>0.902</td>\n      <td>NaN</td>\n      <td>NaN</td>\n      <td>NaN</td>\n      <td>18</td>\n      <td>9.0</td>\n      <td>6</td>\n      <td>4</td>\n      <td>24</td>\n    </tr>\n  </tbody>\n</table>\n<p>4 rows × 28 columns</p>\n</div>"
     },
     "metadata": {},
     "execution_count": 49
    }
   ],
   "source": [
    "# Checking nulls in Defensive rebounds\n",
    "\n",
    "games[games['DREB'].isnull()==True]"
   ]
  },
  {
   "cell_type": "code",
   "execution_count": 52,
   "metadata": {},
   "outputs": [],
   "source": [
    "# In the first game the Warriors had 14 Offensive rebounds, 33 Defensive rebounds, and 47 total rebounds\n",
    "games.at[25690, 'OREB'] = 14\n",
    "games.at[25690, 'DREB'] = 33\n",
    "games.at[25690, 'REB'] = 47\n",
    "\n",
    "# In the second game the Warriors had 9 Offensive rebounds, 24 Defensive rebounds, and 33 total rebounds\n",
    "games.at[25767, 'OREB'] = 9\n",
    "games.at[25767, 'DREB'] = 24\n",
    "games.at[25767, 'REB'] = 33\n",
    "\n",
    "# In the third(Same game as first) game the Kings had 7 Offensive rebounds, 21 Defensive rebounds, and 28 total rebounds\n",
    "games.at[72039, 'OREB'] = 7\n",
    "games.at[72039, 'DREB'] = 21\n",
    "games.at[72039, 'REB'] = 28\n",
    "\n",
    "# In the fourth game the Jazz had 23 Offensive rebounds, 32 Defensive rebounds, and 55 total rebounds\n",
    "games.at[85068, 'OREB'] = 23\n",
    "games.at[85068, 'DREB'] = 32\n",
    "games.at[85068, 'REB'] = 55"
   ]
  },
  {
   "cell_type": "code",
   "execution_count": 53,
   "metadata": {},
   "outputs": [
    {
     "output_type": "execute_result",
     "data": {
      "text/plain": [
       "index                0\n",
       "SEASON_ID            0\n",
       "TEAM_ID              0\n",
       "TEAM_ABBREVIATION    0\n",
       "TEAM_NAME            0\n",
       "GAME_ID              0\n",
       "GAME_DATE            0\n",
       "MATCHUP              0\n",
       "WL                   0\n",
       "MIN                  0\n",
       "PTS                  0\n",
       "FGM                  0\n",
       "FGA                  0\n",
       "FG_PCT               0\n",
       "FG3M                 0\n",
       "FG3A                 0\n",
       "FG3_PCT              0\n",
       "FTM                  0\n",
       "FTA                  0\n",
       "FT_PCT               0\n",
       "OREB                 0\n",
       "DREB                 0\n",
       "REB                  0\n",
       "AST                  0\n",
       "STL                  2\n",
       "BLK                  0\n",
       "TOV                  0\n",
       "PF                   0\n",
       "dtype: int64"
      ]
     },
     "metadata": {},
     "execution_count": 53
    }
   ],
   "source": [
    "games.isnull().sum()"
   ]
  },
  {
   "cell_type": "code",
   "execution_count": 54,
   "metadata": {},
   "outputs": [
    {
     "output_type": "execute_result",
     "data": {
      "text/plain": [
       "       index SEASON_ID     TEAM_ID TEAM_ABBREVIATION           TEAM_NAME  \\\n",
       "6924    3349     21983  1610612737               ATL       Atlanta Hawks   \n",
       "61952   3363     21983  1610612755               PHL  Philadelphia 76ers   \n",
       "\n",
       "          GAME_ID   GAME_DATE      MATCHUP WL  MIN  ...  FTA  FT_PCT  OREB  \\\n",
       "6924   0028300531  1984-02-04  ATL vs. PHL  W  240  ...   16   0.875  15.0   \n",
       "61952  0028300531  1984-02-04    PHL @ ATL  L  240  ...   27   0.815  14.0   \n",
       "\n",
       "       DREB   REB  AST  STL  BLK  TOV  PF  \n",
       "6924   22.0  37.0   28  NaN    6    8  22  \n",
       "61952  20.0  34.0   18  NaN    6    6  20  \n",
       "\n",
       "[2 rows x 28 columns]"
      ],
      "text/html": "<div>\n<style scoped>\n    .dataframe tbody tr th:only-of-type {\n        vertical-align: middle;\n    }\n\n    .dataframe tbody tr th {\n        vertical-align: top;\n    }\n\n    .dataframe thead th {\n        text-align: right;\n    }\n</style>\n<table border=\"1\" class=\"dataframe\">\n  <thead>\n    <tr style=\"text-align: right;\">\n      <th></th>\n      <th>index</th>\n      <th>SEASON_ID</th>\n      <th>TEAM_ID</th>\n      <th>TEAM_ABBREVIATION</th>\n      <th>TEAM_NAME</th>\n      <th>GAME_ID</th>\n      <th>GAME_DATE</th>\n      <th>MATCHUP</th>\n      <th>WL</th>\n      <th>MIN</th>\n      <th>...</th>\n      <th>FTA</th>\n      <th>FT_PCT</th>\n      <th>OREB</th>\n      <th>DREB</th>\n      <th>REB</th>\n      <th>AST</th>\n      <th>STL</th>\n      <th>BLK</th>\n      <th>TOV</th>\n      <th>PF</th>\n    </tr>\n  </thead>\n  <tbody>\n    <tr>\n      <th>6924</th>\n      <td>3349</td>\n      <td>21983</td>\n      <td>1610612737</td>\n      <td>ATL</td>\n      <td>Atlanta Hawks</td>\n      <td>0028300531</td>\n      <td>1984-02-04</td>\n      <td>ATL vs. PHL</td>\n      <td>W</td>\n      <td>240</td>\n      <td>...</td>\n      <td>16</td>\n      <td>0.875</td>\n      <td>15.0</td>\n      <td>22.0</td>\n      <td>37.0</td>\n      <td>28</td>\n      <td>NaN</td>\n      <td>6</td>\n      <td>8</td>\n      <td>22</td>\n    </tr>\n    <tr>\n      <th>61952</th>\n      <td>3363</td>\n      <td>21983</td>\n      <td>1610612755</td>\n      <td>PHL</td>\n      <td>Philadelphia 76ers</td>\n      <td>0028300531</td>\n      <td>1984-02-04</td>\n      <td>PHL @ ATL</td>\n      <td>L</td>\n      <td>240</td>\n      <td>...</td>\n      <td>27</td>\n      <td>0.815</td>\n      <td>14.0</td>\n      <td>20.0</td>\n      <td>34.0</td>\n      <td>18</td>\n      <td>NaN</td>\n      <td>6</td>\n      <td>6</td>\n      <td>20</td>\n    </tr>\n  </tbody>\n</table>\n<p>2 rows × 28 columns</p>\n</div>"
     },
     "metadata": {},
     "execution_count": 54
    }
   ],
   "source": [
    "# Checking nulls in steals\n",
    "\n",
    "games[games['STL'].isnull()==True]"
   ]
  },
  {
   "cell_type": "code",
   "execution_count": 55,
   "metadata": {},
   "outputs": [],
   "source": [
    "# No steals were recorded in this game, setting both to 0\n",
    "\n",
    "# Hawks\n",
    "games.at[6924, 'STL'] = 0\n",
    "\n",
    "# Sixers\n",
    "games.at[61952, 'STL'] = 0"
   ]
  },
  {
   "cell_type": "code",
   "execution_count": 56,
   "metadata": {},
   "outputs": [
    {
     "output_type": "execute_result",
     "data": {
      "text/plain": [
       "index                0\n",
       "SEASON_ID            0\n",
       "TEAM_ID              0\n",
       "TEAM_ABBREVIATION    0\n",
       "TEAM_NAME            0\n",
       "GAME_ID              0\n",
       "GAME_DATE            0\n",
       "MATCHUP              0\n",
       "WL                   0\n",
       "MIN                  0\n",
       "PTS                  0\n",
       "FGM                  0\n",
       "FGA                  0\n",
       "FG_PCT               0\n",
       "FG3M                 0\n",
       "FG3A                 0\n",
       "FG3_PCT              0\n",
       "FTM                  0\n",
       "FTA                  0\n",
       "FT_PCT               0\n",
       "OREB                 0\n",
       "DREB                 0\n",
       "REB                  0\n",
       "AST                  0\n",
       "STL                  0\n",
       "BLK                  0\n",
       "TOV                  0\n",
       "PF                   0\n",
       "dtype: int64"
      ]
     },
     "metadata": {},
     "execution_count": 56
    }
   ],
   "source": [
    "games.isnull().sum()"
   ]
  },
  {
   "cell_type": "code",
   "execution_count": 58,
   "metadata": {},
   "outputs": [],
   "source": [
    "# Dropping the redundant index column\n",
    "\n",
    "games.drop('index', axis=1, inplace=True)"
   ]
  },
  {
   "cell_type": "code",
   "execution_count": 59,
   "metadata": {},
   "outputs": [],
   "source": [
    "# Saving dataframe to CSV to work with\n",
    "\n",
    "games.to_csv('nba_game_stats.csv', index=False)"
   ]
  },
  {
   "cell_type": "code",
   "execution_count": null,
   "metadata": {},
   "outputs": [],
   "source": []
  }
 ]
}